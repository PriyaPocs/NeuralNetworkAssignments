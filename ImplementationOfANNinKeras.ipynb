{
 "cells": [
  {
   "cell_type": "markdown",
   "id": "8d632aa5",
   "metadata": {},
   "source": [
    "#### Q1. Install and load the latest versions of TensorFlow and Keras. Print their versions."
   ]
  },
  {
   "cell_type": "code",
   "execution_count": 2,
   "id": "705ae229",
   "metadata": {},
   "outputs": [
    {
     "name": "stdout",
     "output_type": "stream",
     "text": [
      "TensorFlow Version 2.13.0\n"
     ]
    }
   ],
   "source": [
    "import tensorflow as tf\n",
    "\n",
    "# Checking version of TensorFlow (which includes Keras)\n",
    "print(f\"TensorFlow Version {tf.__version__}\")"
   ]
  },
  {
   "cell_type": "code",
   "execution_count": 4,
   "id": "50b7d088-37cb-4437-bf4b-581fa2a7d356",
   "metadata": {},
   "outputs": [
    {
     "name": "stdout",
     "output_type": "stream",
     "text": [
      "keras Version 2.13.1\n"
     ]
    }
   ],
   "source": [
    "import keras\n",
    "print(f\"keras Version {keras.__version__}\")"
   ]
  },
  {
   "cell_type": "markdown",
   "id": "57e53fbd",
   "metadata": {},
   "source": [
    "#### Q2. Load the Wine Quality dataset and explore its dimensions."
   ]
  },
  {
   "cell_type": "code",
   "execution_count": 85,
   "id": "8b6ca560",
   "metadata": {},
   "outputs": [
    {
     "name": "stdout",
     "output_type": "stream",
     "text": [
      "Number of rows: 1599\n",
      "Number of columns: 12\n"
     ]
    }
   ],
   "source": [
    "import pandas as pd\n",
    "\n",
    "# URL of the dataset\n",
    "# url = \"https://www.kaggle.com/datasets/nareshbhat/wine-quality-binary-classification\"\n",
    "url = \"https://raw.githubusercontent.com/PriyaPocs/NeuralNetworkAssignments/main/wine.csv\"\n",
    "\n",
    "\n",
    "# Load the dataset from the URL\n",
    "wine_data = pd.read_csv(url)\n",
    "\n",
    "# Explore the dimensions of the dataset\n",
    "rows, columns = wine_data.shape\n",
    "print(f\"Number of rows: {rows}\")\n",
    "print(f\"Number of columns: {columns}\")"
   ]
  },
  {
   "cell_type": "markdown",
   "id": "3ee3e3a8",
   "metadata": {},
   "source": [
    "#### Q3. Check for null values, identify categorical variables, and encode them."
   ]
  },
  {
   "cell_type": "code",
   "execution_count": 86,
   "id": "f4918408",
   "metadata": {},
   "outputs": [
    {
     "data": {
      "text/plain": [
       "fixed acidity           0\n",
       "volatile acidity        0\n",
       "citric acid             0\n",
       "residual sugar          0\n",
       "chlorides               0\n",
       "free sulfur dioxide     0\n",
       "total sulfur dioxide    0\n",
       "density                 0\n",
       "pH                      0\n",
       "sulphates               0\n",
       "alcohol                 0\n",
       "quality                 0\n",
       "dtype: int64"
      ]
     },
     "execution_count": 86,
     "metadata": {},
     "output_type": "execute_result"
    }
   ],
   "source": [
    "wine_data.isnull().sum()"
   ]
  },
  {
   "cell_type": "markdown",
   "id": "25105b77",
   "metadata": {},
   "source": [
    "No null valuesin the dataset"
   ]
  },
  {
   "cell_type": "code",
   "execution_count": 87,
   "id": "8ca2889a",
   "metadata": {},
   "outputs": [
    {
     "name": "stdout",
     "output_type": "stream",
     "text": [
      "<class 'pandas.core.frame.DataFrame'>\n",
      "RangeIndex: 1599 entries, 0 to 1598\n",
      "Data columns (total 12 columns):\n",
      " #   Column                Non-Null Count  Dtype  \n",
      "---  ------                --------------  -----  \n",
      " 0   fixed acidity         1599 non-null   float64\n",
      " 1   volatile acidity      1599 non-null   float64\n",
      " 2   citric acid           1599 non-null   float64\n",
      " 3   residual sugar        1599 non-null   float64\n",
      " 4   chlorides             1599 non-null   float64\n",
      " 5   free sulfur dioxide   1599 non-null   float64\n",
      " 6   total sulfur dioxide  1599 non-null   float64\n",
      " 7   density               1599 non-null   float64\n",
      " 8   pH                    1599 non-null   float64\n",
      " 9   sulphates             1599 non-null   float64\n",
      " 10  alcohol               1599 non-null   float64\n",
      " 11  quality               1599 non-null   object \n",
      "dtypes: float64(11), object(1)\n",
      "memory usage: 150.0+ KB\n"
     ]
    }
   ],
   "source": [
    "wine_data.info()"
   ]
  },
  {
   "cell_type": "markdown",
   "id": "18df1468",
   "metadata": {},
   "source": [
    "quality is  categorical"
   ]
  },
  {
   "cell_type": "code",
   "execution_count": 88,
   "id": "374db9f4",
   "metadata": {},
   "outputs": [
    {
     "data": {
      "text/plain": [
       "array(['bad', 'good'], dtype=object)"
      ]
     },
     "execution_count": 88,
     "metadata": {},
     "output_type": "execute_result"
    }
   ],
   "source": [
    "wine_data['quality'].unique()"
   ]
  },
  {
   "cell_type": "code",
   "execution_count": 89,
   "id": "16335c72",
   "metadata": {},
   "outputs": [
    {
     "data": {
      "text/plain": [
       "array([855, 744])"
      ]
     },
     "execution_count": 89,
     "metadata": {},
     "output_type": "execute_result"
    }
   ],
   "source": [
    "wine_data['quality'].value_counts().unique()"
   ]
  },
  {
   "cell_type": "markdown",
   "id": "62199f7e",
   "metadata": {},
   "source": [
    "As quality is the dependent feature with 2 catogorical values. So we can encode it good with 1 and bad with 0."
   ]
  },
  {
   "cell_type": "code",
   "execution_count": 90,
   "id": "872a7bcb",
   "metadata": {},
   "outputs": [],
   "source": [
    "# Assuming 'wine_data' is your DataFrame\n",
    "wine_data['quality'].replace({'bad': 0, 'good': 1}, inplace=True)"
   ]
  },
  {
   "cell_type": "code",
   "execution_count": 91,
   "id": "e4c4a27e",
   "metadata": {},
   "outputs": [
    {
     "data": {
      "text/html": [
       "<div>\n",
       "<style scoped>\n",
       "    .dataframe tbody tr th:only-of-type {\n",
       "        vertical-align: middle;\n",
       "    }\n",
       "\n",
       "    .dataframe tbody tr th {\n",
       "        vertical-align: top;\n",
       "    }\n",
       "\n",
       "    .dataframe thead th {\n",
       "        text-align: right;\n",
       "    }\n",
       "</style>\n",
       "<table border=\"1\" class=\"dataframe\">\n",
       "  <thead>\n",
       "    <tr style=\"text-align: right;\">\n",
       "      <th></th>\n",
       "      <th>fixed acidity</th>\n",
       "      <th>volatile acidity</th>\n",
       "      <th>citric acid</th>\n",
       "      <th>residual sugar</th>\n",
       "      <th>chlorides</th>\n",
       "      <th>free sulfur dioxide</th>\n",
       "      <th>total sulfur dioxide</th>\n",
       "      <th>density</th>\n",
       "      <th>pH</th>\n",
       "      <th>sulphates</th>\n",
       "      <th>alcohol</th>\n",
       "      <th>quality</th>\n",
       "    </tr>\n",
       "  </thead>\n",
       "  <tbody>\n",
       "    <tr>\n",
       "      <th>count</th>\n",
       "      <td>1599.000000</td>\n",
       "      <td>1599.000000</td>\n",
       "      <td>1599.000000</td>\n",
       "      <td>1599.000000</td>\n",
       "      <td>1599.000000</td>\n",
       "      <td>1599.000000</td>\n",
       "      <td>1599.000000</td>\n",
       "      <td>1599.000000</td>\n",
       "      <td>1599.000000</td>\n",
       "      <td>1599.000000</td>\n",
       "      <td>1599.000000</td>\n",
       "      <td>1599.000000</td>\n",
       "    </tr>\n",
       "    <tr>\n",
       "      <th>mean</th>\n",
       "      <td>8.319637</td>\n",
       "      <td>0.527821</td>\n",
       "      <td>0.270976</td>\n",
       "      <td>2.538806</td>\n",
       "      <td>0.087467</td>\n",
       "      <td>15.874922</td>\n",
       "      <td>46.467792</td>\n",
       "      <td>0.996747</td>\n",
       "      <td>3.311113</td>\n",
       "      <td>0.658149</td>\n",
       "      <td>10.422983</td>\n",
       "      <td>0.534709</td>\n",
       "    </tr>\n",
       "    <tr>\n",
       "      <th>std</th>\n",
       "      <td>1.741096</td>\n",
       "      <td>0.179060</td>\n",
       "      <td>0.194801</td>\n",
       "      <td>1.409928</td>\n",
       "      <td>0.047065</td>\n",
       "      <td>10.460157</td>\n",
       "      <td>32.895324</td>\n",
       "      <td>0.001887</td>\n",
       "      <td>0.154386</td>\n",
       "      <td>0.169507</td>\n",
       "      <td>1.065668</td>\n",
       "      <td>0.498950</td>\n",
       "    </tr>\n",
       "    <tr>\n",
       "      <th>min</th>\n",
       "      <td>4.600000</td>\n",
       "      <td>0.120000</td>\n",
       "      <td>0.000000</td>\n",
       "      <td>0.900000</td>\n",
       "      <td>0.012000</td>\n",
       "      <td>1.000000</td>\n",
       "      <td>6.000000</td>\n",
       "      <td>0.990070</td>\n",
       "      <td>2.740000</td>\n",
       "      <td>0.330000</td>\n",
       "      <td>8.400000</td>\n",
       "      <td>0.000000</td>\n",
       "    </tr>\n",
       "    <tr>\n",
       "      <th>25%</th>\n",
       "      <td>7.100000</td>\n",
       "      <td>0.390000</td>\n",
       "      <td>0.090000</td>\n",
       "      <td>1.900000</td>\n",
       "      <td>0.070000</td>\n",
       "      <td>7.000000</td>\n",
       "      <td>22.000000</td>\n",
       "      <td>0.995600</td>\n",
       "      <td>3.210000</td>\n",
       "      <td>0.550000</td>\n",
       "      <td>9.500000</td>\n",
       "      <td>0.000000</td>\n",
       "    </tr>\n",
       "    <tr>\n",
       "      <th>50%</th>\n",
       "      <td>7.900000</td>\n",
       "      <td>0.520000</td>\n",
       "      <td>0.260000</td>\n",
       "      <td>2.200000</td>\n",
       "      <td>0.079000</td>\n",
       "      <td>14.000000</td>\n",
       "      <td>38.000000</td>\n",
       "      <td>0.996750</td>\n",
       "      <td>3.310000</td>\n",
       "      <td>0.620000</td>\n",
       "      <td>10.200000</td>\n",
       "      <td>1.000000</td>\n",
       "    </tr>\n",
       "    <tr>\n",
       "      <th>75%</th>\n",
       "      <td>9.200000</td>\n",
       "      <td>0.640000</td>\n",
       "      <td>0.420000</td>\n",
       "      <td>2.600000</td>\n",
       "      <td>0.090000</td>\n",
       "      <td>21.000000</td>\n",
       "      <td>62.000000</td>\n",
       "      <td>0.997835</td>\n",
       "      <td>3.400000</td>\n",
       "      <td>0.730000</td>\n",
       "      <td>11.100000</td>\n",
       "      <td>1.000000</td>\n",
       "    </tr>\n",
       "    <tr>\n",
       "      <th>max</th>\n",
       "      <td>15.900000</td>\n",
       "      <td>1.580000</td>\n",
       "      <td>1.000000</td>\n",
       "      <td>15.500000</td>\n",
       "      <td>0.611000</td>\n",
       "      <td>72.000000</td>\n",
       "      <td>289.000000</td>\n",
       "      <td>1.003690</td>\n",
       "      <td>4.010000</td>\n",
       "      <td>2.000000</td>\n",
       "      <td>14.900000</td>\n",
       "      <td>1.000000</td>\n",
       "    </tr>\n",
       "  </tbody>\n",
       "</table>\n",
       "</div>"
      ],
      "text/plain": [
       "       fixed acidity  volatile acidity  citric acid  residual sugar  \\\n",
       "count    1599.000000       1599.000000  1599.000000     1599.000000   \n",
       "mean        8.319637          0.527821     0.270976        2.538806   \n",
       "std         1.741096          0.179060     0.194801        1.409928   \n",
       "min         4.600000          0.120000     0.000000        0.900000   \n",
       "25%         7.100000          0.390000     0.090000        1.900000   \n",
       "50%         7.900000          0.520000     0.260000        2.200000   \n",
       "75%         9.200000          0.640000     0.420000        2.600000   \n",
       "max        15.900000          1.580000     1.000000       15.500000   \n",
       "\n",
       "         chlorides  free sulfur dioxide  total sulfur dioxide      density  \\\n",
       "count  1599.000000          1599.000000           1599.000000  1599.000000   \n",
       "mean      0.087467            15.874922             46.467792     0.996747   \n",
       "std       0.047065            10.460157             32.895324     0.001887   \n",
       "min       0.012000             1.000000              6.000000     0.990070   \n",
       "25%       0.070000             7.000000             22.000000     0.995600   \n",
       "50%       0.079000            14.000000             38.000000     0.996750   \n",
       "75%       0.090000            21.000000             62.000000     0.997835   \n",
       "max       0.611000            72.000000            289.000000     1.003690   \n",
       "\n",
       "                pH    sulphates      alcohol      quality  \n",
       "count  1599.000000  1599.000000  1599.000000  1599.000000  \n",
       "mean      3.311113     0.658149    10.422983     0.534709  \n",
       "std       0.154386     0.169507     1.065668     0.498950  \n",
       "min       2.740000     0.330000     8.400000     0.000000  \n",
       "25%       3.210000     0.550000     9.500000     0.000000  \n",
       "50%       3.310000     0.620000    10.200000     1.000000  \n",
       "75%       3.400000     0.730000    11.100000     1.000000  \n",
       "max       4.010000     2.000000    14.900000     1.000000  "
      ]
     },
     "execution_count": 91,
     "metadata": {},
     "output_type": "execute_result"
    }
   ],
   "source": [
    "wine_data.describe()"
   ]
  },
  {
   "cell_type": "code",
   "execution_count": 92,
   "id": "d3ebd89c",
   "metadata": {},
   "outputs": [
    {
     "data": {
      "text/html": [
       "<div>\n",
       "<style scoped>\n",
       "    .dataframe tbody tr th:only-of-type {\n",
       "        vertical-align: middle;\n",
       "    }\n",
       "\n",
       "    .dataframe tbody tr th {\n",
       "        vertical-align: top;\n",
       "    }\n",
       "\n",
       "    .dataframe thead th {\n",
       "        text-align: right;\n",
       "    }\n",
       "</style>\n",
       "<table border=\"1\" class=\"dataframe\">\n",
       "  <thead>\n",
       "    <tr style=\"text-align: right;\">\n",
       "      <th></th>\n",
       "      <th>fixed acidity</th>\n",
       "      <th>volatile acidity</th>\n",
       "      <th>citric acid</th>\n",
       "      <th>residual sugar</th>\n",
       "      <th>chlorides</th>\n",
       "      <th>free sulfur dioxide</th>\n",
       "      <th>total sulfur dioxide</th>\n",
       "      <th>density</th>\n",
       "      <th>pH</th>\n",
       "      <th>sulphates</th>\n",
       "      <th>alcohol</th>\n",
       "      <th>quality</th>\n",
       "    </tr>\n",
       "  </thead>\n",
       "  <tbody>\n",
       "    <tr>\n",
       "      <th>0</th>\n",
       "      <td>7.4</td>\n",
       "      <td>0.70</td>\n",
       "      <td>0.00</td>\n",
       "      <td>1.9</td>\n",
       "      <td>0.076</td>\n",
       "      <td>11.0</td>\n",
       "      <td>34.0</td>\n",
       "      <td>0.9978</td>\n",
       "      <td>3.51</td>\n",
       "      <td>0.56</td>\n",
       "      <td>9.4</td>\n",
       "      <td>0</td>\n",
       "    </tr>\n",
       "    <tr>\n",
       "      <th>1</th>\n",
       "      <td>7.8</td>\n",
       "      <td>0.88</td>\n",
       "      <td>0.00</td>\n",
       "      <td>2.6</td>\n",
       "      <td>0.098</td>\n",
       "      <td>25.0</td>\n",
       "      <td>67.0</td>\n",
       "      <td>0.9968</td>\n",
       "      <td>3.20</td>\n",
       "      <td>0.68</td>\n",
       "      <td>9.8</td>\n",
       "      <td>0</td>\n",
       "    </tr>\n",
       "    <tr>\n",
       "      <th>2</th>\n",
       "      <td>7.8</td>\n",
       "      <td>0.76</td>\n",
       "      <td>0.04</td>\n",
       "      <td>2.3</td>\n",
       "      <td>0.092</td>\n",
       "      <td>15.0</td>\n",
       "      <td>54.0</td>\n",
       "      <td>0.9970</td>\n",
       "      <td>3.26</td>\n",
       "      <td>0.65</td>\n",
       "      <td>9.8</td>\n",
       "      <td>0</td>\n",
       "    </tr>\n",
       "    <tr>\n",
       "      <th>3</th>\n",
       "      <td>11.2</td>\n",
       "      <td>0.28</td>\n",
       "      <td>0.56</td>\n",
       "      <td>1.9</td>\n",
       "      <td>0.075</td>\n",
       "      <td>17.0</td>\n",
       "      <td>60.0</td>\n",
       "      <td>0.9980</td>\n",
       "      <td>3.16</td>\n",
       "      <td>0.58</td>\n",
       "      <td>9.8</td>\n",
       "      <td>1</td>\n",
       "    </tr>\n",
       "    <tr>\n",
       "      <th>4</th>\n",
       "      <td>7.4</td>\n",
       "      <td>0.70</td>\n",
       "      <td>0.00</td>\n",
       "      <td>1.9</td>\n",
       "      <td>0.076</td>\n",
       "      <td>11.0</td>\n",
       "      <td>34.0</td>\n",
       "      <td>0.9978</td>\n",
       "      <td>3.51</td>\n",
       "      <td>0.56</td>\n",
       "      <td>9.4</td>\n",
       "      <td>0</td>\n",
       "    </tr>\n",
       "  </tbody>\n",
       "</table>\n",
       "</div>"
      ],
      "text/plain": [
       "   fixed acidity  volatile acidity  citric acid  residual sugar  chlorides  \\\n",
       "0            7.4              0.70         0.00             1.9      0.076   \n",
       "1            7.8              0.88         0.00             2.6      0.098   \n",
       "2            7.8              0.76         0.04             2.3      0.092   \n",
       "3           11.2              0.28         0.56             1.9      0.075   \n",
       "4            7.4              0.70         0.00             1.9      0.076   \n",
       "\n",
       "   free sulfur dioxide  total sulfur dioxide  density    pH  sulphates  \\\n",
       "0                 11.0                  34.0   0.9978  3.51       0.56   \n",
       "1                 25.0                  67.0   0.9968  3.20       0.68   \n",
       "2                 15.0                  54.0   0.9970  3.26       0.65   \n",
       "3                 17.0                  60.0   0.9980  3.16       0.58   \n",
       "4                 11.0                  34.0   0.9978  3.51       0.56   \n",
       "\n",
       "   alcohol  quality  \n",
       "0      9.4        0  \n",
       "1      9.8        0  \n",
       "2      9.8        0  \n",
       "3      9.8        1  \n",
       "4      9.4        0  "
      ]
     },
     "execution_count": 92,
     "metadata": {},
     "output_type": "execute_result"
    }
   ],
   "source": [
    "wine_data.head(5)"
   ]
  },
  {
   "cell_type": "markdown",
   "id": "38890061",
   "metadata": {},
   "source": [
    "#### Q4. Separate the features and target variables from the dataframe."
   ]
  },
  {
   "cell_type": "code",
   "execution_count": 93,
   "id": "014ad9c1",
   "metadata": {},
   "outputs": [],
   "source": [
    "# Separate the features (X) and target variable (y)\n",
    "X = wine_data.drop(columns=['quality'])  # Features (all columns except 'quality')\n",
    "y = wine_data['quality']  # Target variable (the 'quality' column)\n",
    "\n",
    "# Now, X contains all the features, and y contains the target variable\n"
   ]
  },
  {
   "cell_type": "markdown",
   "id": "f6ad2db1",
   "metadata": {},
   "source": [
    "#### Q5. Perform a train-test split and divide the data into training, validation, and test datasets."
   ]
  },
  {
   "cell_type": "code",
   "execution_count": 94,
   "id": "b0c332eb",
   "metadata": {},
   "outputs": [],
   "source": [
    "from sklearn.model_selection import train_test_split\n",
    "\n",
    "# Split the data into training and test sets (80% train, 20% test)\n",
    "X_train, X_test, y_train, y_test = train_test_split(X, y, test_size=0.2, random_state=42)\n",
    "\n",
    "# Split the training data into training and validation sets (80% train, 20% validation)\n",
    "X_train, X_val, y_train, y_val = train_test_split(X_train, y_train, test_size=0.2, random_state=42)\n",
    "\n",
    "# Now you have X_train, y_train for training, X_val, y_val for validation, and X_test, y_test for testing\n"
   ]
  },
  {
   "cell_type": "markdown",
   "id": "6272a0c5",
   "metadata": {},
   "source": [
    "#### Q6. Scale the dataset using an appropriate scaling technique."
   ]
  },
  {
   "cell_type": "code",
   "execution_count": 56,
   "id": "c20a754c",
   "metadata": {},
   "outputs": [],
   "source": [
    "from sklearn.preprocessing import StandardScaler # HAndling Feature Scaling"
   ]
  },
  {
   "cell_type": "code",
   "execution_count": 95,
   "id": "5e48649e",
   "metadata": {},
   "outputs": [],
   "source": [
    "scaler = StandardScaler()\n",
    "scaled_X_train = scaler.fit_transform(X_train)\n",
    "scaled_X_val = scaler.transform(X_val)\n",
    "scaled_X_test = scaler.transform(X_test)"
   ]
  },
  {
   "cell_type": "code",
   "execution_count": 96,
   "id": "f400a359",
   "metadata": {},
   "outputs": [
    {
     "data": {
      "text/plain": [
       "array([[-0.36458197,  0.27028307, -0.88452628, ..., -1.50331912,\n",
       "        -0.96231644, -0.61284241],\n",
       "       [ 2.08646306, -0.82422292,  1.09972703, ..., -0.98778743,\n",
       "        -0.29662295, -0.13057021],\n",
       "       [ 0.86094055, -0.16751933,  1.09972703, ..., -0.02116552,\n",
       "         0.70191728,  0.25524755],\n",
       "       ...,\n",
       "       [ 2.611687  , -1.26202532,  2.37168427, ..., -0.73002159,\n",
       "         0.59096836,  0.35170199],\n",
       "       [-0.4812984 ,  0.84489871, -1.03716115, ...,  0.4299247 ,\n",
       "        -0.6294697 ,  0.44815643],\n",
       "       [-1.06488055,  0.46182161, -1.39330918, ...,  0.94545638,\n",
       "        -0.07472512, -1.19156904]])"
      ]
     },
     "execution_count": 96,
     "metadata": {},
     "output_type": "execute_result"
    }
   ],
   "source": [
    "scaled_X_train"
   ]
  },
  {
   "cell_type": "markdown",
   "id": "2c967b89",
   "metadata": {},
   "source": [
    "#### Q7. Design and implement at least two hidden layers and an output layer for the binary categorical variables."
   ]
  },
  {
   "cell_type": "code",
   "execution_count": 97,
   "id": "4138babd",
   "metadata": {},
   "outputs": [],
   "source": [
    "import tensorflow as tf\n",
    "from tensorflow.keras.models import Sequential\n",
    "from tensorflow.keras.layers import Dense"
   ]
  },
  {
   "cell_type": "code",
   "execution_count": 98,
   "id": "121a6536",
   "metadata": {},
   "outputs": [],
   "source": [
    "# Creating layers of ANN\n",
    "LAYERS = [tf.keras.layers.Flatten(input_shape=(X_train.shape[1],), name=\"inputLayer\"),\n",
    "          tf.keras.layers.Dense(64, activation=\"relu\", name=\"hiddenLayer1\"),\n",
    "          tf.keras.layers.Dense(32, activation=\"relu\", name=\"hiddenLayer2\"),\n",
    "          tf.keras.layers.Dense(1, activation=\"sigmoid\", name=\"outputLayer\")]"
   ]
  },
  {
   "cell_type": "markdown",
   "id": "aead3420",
   "metadata": {},
   "source": [
    "#### Q8. Create a Sequential model in Keras and add the previously designed layers to it.\n"
   ]
  },
  {
   "cell_type": "code",
   "execution_count": 99,
   "id": "c25a50a3",
   "metadata": {},
   "outputs": [],
   "source": [
    "model_clf = tf.keras.models.Sequential(LAYERS)"
   ]
  },
  {
   "cell_type": "markdown",
   "id": "1e823d7b",
   "metadata": {},
   "source": [
    "#### Q9. Print the summary of the model architecture."
   ]
  },
  {
   "cell_type": "code",
   "execution_count": 100,
   "id": "bfc8f62d",
   "metadata": {},
   "outputs": [
    {
     "name": "stdout",
     "output_type": "stream",
     "text": [
      "Model: \"sequential_5\"\n",
      "_________________________________________________________________\n",
      " Layer (type)                Output Shape              Param #   \n",
      "=================================================================\n",
      " inputLayer (Flatten)        (None, 11)                0         \n",
      "                                                                 \n",
      " hiddenLayer1 (Dense)        (None, 64)                768       \n",
      "                                                                 \n",
      " hiddenLayer2 (Dense)        (None, 32)                2080      \n",
      "                                                                 \n",
      " outputLayer (Dense)         (None, 1)                 33        \n",
      "                                                                 \n",
      "=================================================================\n",
      "Total params: 2881 (11.25 KB)\n",
      "Trainable params: 2881 (11.25 KB)\n",
      "Non-trainable params: 0 (0.00 Byte)\n",
      "_________________________________________________________________\n"
     ]
    }
   ],
   "source": [
    "model_clf.summary()"
   ]
  },
  {
   "cell_type": "markdown",
   "id": "e98ca12c",
   "metadata": {},
   "source": [
    "#### Q10. Set the loss function(‘binary_crossentropy’), optimizer, and include the accuracy metric in the model.\n",
    "\n",
    "\n"
   ]
  },
  {
   "cell_type": "code",
   "execution_count": 1,
   "id": "7620eca2-b8ec-466e-b28e-b6715c3b3da8",
   "metadata": {},
   "outputs": [],
   "source": [
    "LOSS_FUNCTION = \"binary_crossentropy\" \n",
    "OPTIMIZER = \"adam\" \n",
    "METRICS = [\"accuracy\"]"
   ]
  },
  {
   "cell_type": "markdown",
   "id": "ceb992ef-f7ec-4dd5-89e3-d56629c15c29",
   "metadata": {},
   "source": [
    "#### Q11. Compile the model with the specified loss function, optimizer, and metrics."
   ]
  },
  {
   "cell_type": "code",
   "execution_count": 101,
   "id": "dea4ebd6",
   "metadata": {},
   "outputs": [],
   "source": [
    "\n",
    "\n",
    "model_clf.compile(loss=LOSS_FUNCTION,\n",
    "              optimizer=OPTIMIZER,\n",
    "              metrics=METRICS)\n"
   ]
  },
  {
   "cell_type": "markdown",
   "id": "f7a0b84c",
   "metadata": {},
   "source": [
    "#### Q12. Fit the model to the training data using appropriate batch size and number of epochs."
   ]
  },
  {
   "cell_type": "code",
   "execution_count": 102,
   "id": "d33db0f3",
   "metadata": {},
   "outputs": [
    {
     "name": "stdout",
     "output_type": "stream",
     "text": [
      "Epoch 1/20\n",
      "32/32 - 0s - loss: 0.6377 - accuracy: 0.6354 - val_loss: 0.5965 - val_accuracy: 0.7148 - 233ms/epoch - 7ms/step\n",
      "Epoch 2/20\n",
      "32/32 - 0s - loss: 0.5533 - accuracy: 0.7263 - val_loss: 0.5533 - val_accuracy: 0.7500 - 26ms/epoch - 803us/step\n",
      "Epoch 3/20\n",
      "32/32 - 0s - loss: 0.5172 - accuracy: 0.7488 - val_loss: 0.5416 - val_accuracy: 0.7539 - 24ms/epoch - 752us/step\n",
      "Epoch 4/20\n",
      "32/32 - 0s - loss: 0.5034 - accuracy: 0.7537 - val_loss: 0.5361 - val_accuracy: 0.7578 - 24ms/epoch - 752us/step\n",
      "Epoch 5/20\n",
      "32/32 - 0s - loss: 0.4932 - accuracy: 0.7605 - val_loss: 0.5397 - val_accuracy: 0.7812 - 23ms/epoch - 717us/step\n",
      "Epoch 6/20\n",
      "32/32 - 0s - loss: 0.4892 - accuracy: 0.7586 - val_loss: 0.5350 - val_accuracy: 0.7969 - 24ms/epoch - 760us/step\n",
      "Epoch 7/20\n",
      "32/32 - 0s - loss: 0.4841 - accuracy: 0.7615 - val_loss: 0.5308 - val_accuracy: 0.7812 - 23ms/epoch - 729us/step\n",
      "Epoch 8/20\n",
      "32/32 - 0s - loss: 0.4752 - accuracy: 0.7664 - val_loss: 0.5352 - val_accuracy: 0.7891 - 24ms/epoch - 755us/step\n",
      "Epoch 9/20\n",
      "32/32 - 0s - loss: 0.4696 - accuracy: 0.7761 - val_loss: 0.5257 - val_accuracy: 0.7656 - 23ms/epoch - 727us/step\n",
      "Epoch 10/20\n",
      "32/32 - 0s - loss: 0.4661 - accuracy: 0.7722 - val_loss: 0.5359 - val_accuracy: 0.7773 - 24ms/epoch - 747us/step\n",
      "Epoch 11/20\n",
      "32/32 - 0s - loss: 0.4605 - accuracy: 0.7820 - val_loss: 0.5312 - val_accuracy: 0.7773 - 24ms/epoch - 737us/step\n",
      "Epoch 12/20\n",
      "32/32 - 0s - loss: 0.4578 - accuracy: 0.7859 - val_loss: 0.5393 - val_accuracy: 0.7656 - 24ms/epoch - 738us/step\n",
      "Epoch 13/20\n",
      "32/32 - 0s - loss: 0.4535 - accuracy: 0.7849 - val_loss: 0.5378 - val_accuracy: 0.7695 - 23ms/epoch - 722us/step\n",
      "Epoch 14/20\n",
      "32/32 - 0s - loss: 0.4513 - accuracy: 0.7810 - val_loss: 0.5445 - val_accuracy: 0.7617 - 23ms/epoch - 715us/step\n",
      "Epoch 15/20\n",
      "32/32 - 0s - loss: 0.4460 - accuracy: 0.7859 - val_loss: 0.5356 - val_accuracy: 0.7852 - 23ms/epoch - 734us/step\n",
      "Epoch 16/20\n",
      "32/32 - 0s - loss: 0.4446 - accuracy: 0.7859 - val_loss: 0.5391 - val_accuracy: 0.7695 - 22ms/epoch - 700us/step\n",
      "Epoch 17/20\n",
      "32/32 - 0s - loss: 0.4429 - accuracy: 0.7889 - val_loss: 0.5362 - val_accuracy: 0.7812 - 24ms/epoch - 747us/step\n",
      "Epoch 18/20\n",
      "32/32 - 0s - loss: 0.4394 - accuracy: 0.7879 - val_loss: 0.5461 - val_accuracy: 0.7617 - 23ms/epoch - 704us/step\n",
      "Epoch 19/20\n",
      "32/32 - 0s - loss: 0.4376 - accuracy: 0.7928 - val_loss: 0.5497 - val_accuracy: 0.7734 - 23ms/epoch - 704us/step\n",
      "Epoch 20/20\n",
      "32/32 - 0s - loss: 0.4341 - accuracy: 0.7937 - val_loss: 0.5508 - val_accuracy: 0.7695 - 24ms/epoch - 739us/step\n"
     ]
    }
   ],
   "source": [
    "# history = model_clf.fit(X_train, y_train, validation_data=(X_val, y_val), epochs=20, batch_size=32, verbose=2)\n",
    "history = model_clf.fit(scaled_X_train, y_train, validation_data=(scaled_X_val, y_val), epochs=20, batch_size=32, verbose=2)"
   ]
  },
  {
   "cell_type": "markdown",
   "id": "b8460f11",
   "metadata": {},
   "source": [
    "#### Q13. Obtain the model's parameters (weights and biases)."
   ]
  },
  {
   "cell_type": "code",
   "execution_count": 103,
   "id": "e385a8f0",
   "metadata": {},
   "outputs": [
    {
     "name": "stdout",
     "output_type": "stream",
     "text": [
      "Layer 'inputLayer' has 11 parameters\n",
      "Layer 'hiddenLayer1' has 64 parameters\n",
      "Layer 'hiddenLayer2' has 64 parameters\n",
      "Layer 'outputLayer' has 32 parameters\n",
      "hiddenLayer1\n",
      "64\n",
      "weights.shape\n",
      " (11, 64) \n",
      "\n",
      "biases.shape\n",
      " (64,)\n"
     ]
    }
   ],
   "source": [
    "# Assuming you have already created and trained your model as shown in previous code\n",
    "\n",
    "# Get the model's parameters\n",
    "model_weights = model_clf.get_weights()\n",
    "\n",
    "# Iterate through the model's layers and print the number of parameters in each layer\n",
    "for i, layer_weights in enumerate(model_weights):\n",
    "    if i < len(model_clf.layers):\n",
    "        layer_name = model_clf.layers[i].name\n",
    "        num_params = len(layer_weights)\n",
    "        print(f\"Layer '{layer_name}' has {num_params} parameters\")\n",
    "        \n",
    "\n",
    "hidden1 = model_clf.layers[1]\n",
    "print(hidden1.name)\n",
    "print(len(hidden1.get_weights()[1]))\n",
    "weights, biases = hidden1.get_weights()\n",
    "print(\"weights.shape\\n\",weights.shape, \"\\n\")\n",
    "print(\"biases.shape\\n\", biases.shape)"
   ]
  },
  {
   "cell_type": "markdown",
   "id": "cafb2334",
   "metadata": {},
   "source": [
    "#### Q14. Store the model's training history as a Pandas DataFrame."
   ]
  },
  {
   "cell_type": "code",
   "execution_count": 104,
   "id": "86c8ec00",
   "metadata": {},
   "outputs": [
    {
     "data": {
      "text/html": [
       "<div>\n",
       "<style scoped>\n",
       "    .dataframe tbody tr th:only-of-type {\n",
       "        vertical-align: middle;\n",
       "    }\n",
       "\n",
       "    .dataframe tbody tr th {\n",
       "        vertical-align: top;\n",
       "    }\n",
       "\n",
       "    .dataframe thead th {\n",
       "        text-align: right;\n",
       "    }\n",
       "</style>\n",
       "<table border=\"1\" class=\"dataframe\">\n",
       "  <thead>\n",
       "    <tr style=\"text-align: right;\">\n",
       "      <th></th>\n",
       "      <th>loss</th>\n",
       "      <th>accuracy</th>\n",
       "      <th>val_loss</th>\n",
       "      <th>val_accuracy</th>\n",
       "    </tr>\n",
       "  </thead>\n",
       "  <tbody>\n",
       "    <tr>\n",
       "      <th>0</th>\n",
       "      <td>0.637727</td>\n",
       "      <td>0.635386</td>\n",
       "      <td>0.596544</td>\n",
       "      <td>0.714844</td>\n",
       "    </tr>\n",
       "    <tr>\n",
       "      <th>1</th>\n",
       "      <td>0.553299</td>\n",
       "      <td>0.726295</td>\n",
       "      <td>0.553266</td>\n",
       "      <td>0.750000</td>\n",
       "    </tr>\n",
       "    <tr>\n",
       "      <th>2</th>\n",
       "      <td>0.517165</td>\n",
       "      <td>0.748778</td>\n",
       "      <td>0.541617</td>\n",
       "      <td>0.753906</td>\n",
       "    </tr>\n",
       "    <tr>\n",
       "      <th>3</th>\n",
       "      <td>0.503359</td>\n",
       "      <td>0.753666</td>\n",
       "      <td>0.536095</td>\n",
       "      <td>0.757812</td>\n",
       "    </tr>\n",
       "    <tr>\n",
       "      <th>4</th>\n",
       "      <td>0.493216</td>\n",
       "      <td>0.760508</td>\n",
       "      <td>0.539726</td>\n",
       "      <td>0.781250</td>\n",
       "    </tr>\n",
       "    <tr>\n",
       "      <th>5</th>\n",
       "      <td>0.489231</td>\n",
       "      <td>0.758553</td>\n",
       "      <td>0.535006</td>\n",
       "      <td>0.796875</td>\n",
       "    </tr>\n",
       "    <tr>\n",
       "      <th>6</th>\n",
       "      <td>0.484105</td>\n",
       "      <td>0.761486</td>\n",
       "      <td>0.530783</td>\n",
       "      <td>0.781250</td>\n",
       "    </tr>\n",
       "    <tr>\n",
       "      <th>7</th>\n",
       "      <td>0.475240</td>\n",
       "      <td>0.766373</td>\n",
       "      <td>0.535228</td>\n",
       "      <td>0.789062</td>\n",
       "    </tr>\n",
       "    <tr>\n",
       "      <th>8</th>\n",
       "      <td>0.469630</td>\n",
       "      <td>0.776149</td>\n",
       "      <td>0.525682</td>\n",
       "      <td>0.765625</td>\n",
       "    </tr>\n",
       "    <tr>\n",
       "      <th>9</th>\n",
       "      <td>0.466110</td>\n",
       "      <td>0.772238</td>\n",
       "      <td>0.535906</td>\n",
       "      <td>0.777344</td>\n",
       "    </tr>\n",
       "    <tr>\n",
       "      <th>10</th>\n",
       "      <td>0.460482</td>\n",
       "      <td>0.782014</td>\n",
       "      <td>0.531241</td>\n",
       "      <td>0.777344</td>\n",
       "    </tr>\n",
       "    <tr>\n",
       "      <th>11</th>\n",
       "      <td>0.457788</td>\n",
       "      <td>0.785924</td>\n",
       "      <td>0.539288</td>\n",
       "      <td>0.765625</td>\n",
       "    </tr>\n",
       "    <tr>\n",
       "      <th>12</th>\n",
       "      <td>0.453501</td>\n",
       "      <td>0.784946</td>\n",
       "      <td>0.537784</td>\n",
       "      <td>0.769531</td>\n",
       "    </tr>\n",
       "    <tr>\n",
       "      <th>13</th>\n",
       "      <td>0.451289</td>\n",
       "      <td>0.781036</td>\n",
       "      <td>0.544453</td>\n",
       "      <td>0.761719</td>\n",
       "    </tr>\n",
       "    <tr>\n",
       "      <th>14</th>\n",
       "      <td>0.445985</td>\n",
       "      <td>0.785924</td>\n",
       "      <td>0.535574</td>\n",
       "      <td>0.785156</td>\n",
       "    </tr>\n",
       "    <tr>\n",
       "      <th>15</th>\n",
       "      <td>0.444616</td>\n",
       "      <td>0.785924</td>\n",
       "      <td>0.539085</td>\n",
       "      <td>0.769531</td>\n",
       "    </tr>\n",
       "    <tr>\n",
       "      <th>16</th>\n",
       "      <td>0.442935</td>\n",
       "      <td>0.788856</td>\n",
       "      <td>0.536169</td>\n",
       "      <td>0.781250</td>\n",
       "    </tr>\n",
       "    <tr>\n",
       "      <th>17</th>\n",
       "      <td>0.439434</td>\n",
       "      <td>0.787879</td>\n",
       "      <td>0.546107</td>\n",
       "      <td>0.761719</td>\n",
       "    </tr>\n",
       "    <tr>\n",
       "      <th>18</th>\n",
       "      <td>0.437586</td>\n",
       "      <td>0.792766</td>\n",
       "      <td>0.549679</td>\n",
       "      <td>0.773438</td>\n",
       "    </tr>\n",
       "    <tr>\n",
       "      <th>19</th>\n",
       "      <td>0.434093</td>\n",
       "      <td>0.793744</td>\n",
       "      <td>0.550773</td>\n",
       "      <td>0.769531</td>\n",
       "    </tr>\n",
       "  </tbody>\n",
       "</table>\n",
       "</div>"
      ],
      "text/plain": [
       "        loss  accuracy  val_loss  val_accuracy\n",
       "0   0.637727  0.635386  0.596544      0.714844\n",
       "1   0.553299  0.726295  0.553266      0.750000\n",
       "2   0.517165  0.748778  0.541617      0.753906\n",
       "3   0.503359  0.753666  0.536095      0.757812\n",
       "4   0.493216  0.760508  0.539726      0.781250\n",
       "5   0.489231  0.758553  0.535006      0.796875\n",
       "6   0.484105  0.761486  0.530783      0.781250\n",
       "7   0.475240  0.766373  0.535228      0.789062\n",
       "8   0.469630  0.776149  0.525682      0.765625\n",
       "9   0.466110  0.772238  0.535906      0.777344\n",
       "10  0.460482  0.782014  0.531241      0.777344\n",
       "11  0.457788  0.785924  0.539288      0.765625\n",
       "12  0.453501  0.784946  0.537784      0.769531\n",
       "13  0.451289  0.781036  0.544453      0.761719\n",
       "14  0.445985  0.785924  0.535574      0.785156\n",
       "15  0.444616  0.785924  0.539085      0.769531\n",
       "16  0.442935  0.788856  0.536169      0.781250\n",
       "17  0.439434  0.787879  0.546107      0.761719\n",
       "18  0.437586  0.792766  0.549679      0.773438\n",
       "19  0.434093  0.793744  0.550773      0.769531"
      ]
     },
     "execution_count": 104,
     "metadata": {},
     "output_type": "execute_result"
    }
   ],
   "source": [
    "history_df = pd.DataFrame(history.history)\n",
    "history_df"
   ]
  },
  {
   "cell_type": "markdown",
   "id": "04a0c66c",
   "metadata": {},
   "source": [
    "#### Q15. Plot the model's training history."
   ]
  },
  {
   "cell_type": "code",
   "execution_count": 105,
   "id": "6b63a7a9",
   "metadata": {},
   "outputs": [
    {
     "name": "stdout",
     "output_type": "stream",
     "text": [
      "Test Accuracy: 75.00%\n"
     ]
    },
    {
     "data": {
      "image/png": "[encoded data removed]",
      "text/plain": [
       "<Figure size 1200x400 with 2 Axes>"
      ]
     },
     "metadata": {},
     "output_type": "display_data"
    }
   ],
   "source": [
    "import matplotlib.pyplot as plt  # Import Matplotlib for plotting\n",
    "\n",
    "# Evaluate the model on the test set\n",
    "test_loss, test_accuracy = model_clf.evaluate(scaled_X_test, y_test, verbose=0)\n",
    "print(f\"Test Accuracy: {test_accuracy*100:.2f}%\")\n",
    "\n",
    "# Convert the model's training history to a Pandas DataFrame\n",
    "history_df = pd.DataFrame(history.history)\n",
    "\n",
    "# Plot the training history (loss and accuracy)\n",
    "plt.figure(figsize=(12, 4))\n",
    "\n",
    "# Plot training & validation loss values\n",
    "plt.subplot(1, 2, 1)\n",
    "plt.plot(history_df['loss'], label='Train')\n",
    "plt.plot(history_df['val_loss'], label='Validation')\n",
    "plt.title('Model loss')\n",
    "plt.ylabel('Loss')\n",
    "plt.xlabel('Epoch')\n",
    "plt.legend()\n",
    "\n",
    "# Plot training & validation accuracy values\n",
    "plt.subplot(1, 2, 2)\n",
    "plt.plot(history_df['accuracy'], label='Train')\n",
    "plt.plot(history_df['val_accuracy'], label='Validation')\n",
    "plt.title('Model accuracy')\n",
    "plt.ylabel('Accuracy')\n",
    "plt.xlabel('Epoch')\n",
    "plt.legend()\n",
    "\n",
    "plt.tight_layout()\n",
    "plt.show()\n"
   ]
  },
  {
   "cell_type": "markdown",
   "id": "5caed63c",
   "metadata": {},
   "source": [
    "#### Q16. valuate the model's performance using the test dataset and report relevant metrics."
   ]
  },
  {
   "cell_type": "code",
   "execution_count": 106,
   "id": "1b2fc1aa",
   "metadata": {},
   "outputs": [
    {
     "name": "stdout",
     "output_type": "stream",
     "text": [
      "Test Accuracy: 75.00%\n",
      "Test Loss: 0.4993\n"
     ]
    }
   ],
   "source": [
    "# Assuming you have already created and trained your model as shown in previous code\n",
    "\n",
    "# Evaluate the model on the test set\n",
    "test_loss, test_accuracy = model_clf.evaluate(scaled_X_test, y_test, verbose=0)\n",
    "\n",
    "# Print the test accuracy\n",
    "print(f\"Test Accuracy: {test_accuracy*100:.2f}%\")\n",
    "\n",
    "# Print the test loss (optional)\n",
    "print(f\"Test Loss: {test_loss:.4f}\")\n"
   ]
  },
  {
   "cell_type": "code",
   "execution_count": null,
   "id": "436df5e4",
   "metadata": {},
   "outputs": [],
   "source": []
  }
 ],
 "metadata": {
  "kernelspec": {
   "display_name": "Python 3 (ipykernel)",
   "language": "python",
   "name": "python3"
  },
  "language_info": {
   "codemirror_mode": {
    "name": "ipython",
    "version": 3
   },
   "file_extension": ".py",
   "mimetype": "text/x-python",
   "name": "python",
   "nbconvert_exporter": "python",
   "pygments_lexer": "ipython3",
   "version": "3.10.9"
  }
 },
 "nbformat": 4,
 "nbformat_minor": 5
}
