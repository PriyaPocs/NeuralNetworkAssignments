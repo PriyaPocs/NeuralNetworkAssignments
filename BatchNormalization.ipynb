{
 "cells": [
  {
   "cell_type": "markdown",
   "id": "036f6d9f-c319-4fc7-b8c5-27224021dd7b",
   "metadata": {},
   "source": [
    "### Q1. Theory and Concepts:"
   ]
  },
  {
   "cell_type": "markdown",
   "id": "a0811f15-bd86-4a76-9c06-fb5cfabc35d7",
   "metadata": {},
   "source": [
    "1. Explain the concept of batch normalization in the context of Artificial Neural Networks?\n",
    "\n",
    "Answer(1):\n",
    "\n",
    "Batch normalization is a technique used in artificial neural networks (ANNs) to improve the training and performance of deep neural networks. It addresses the problem of internal covariate shift and helps the network converge faster and generalize better. Here's an explanation of batch normalization in the context of ANNs:\n",
    "\n",
    "**1. Internal Covariate Shift:**\n",
    "   - When training deep neural networks, the distribution of activations (output values) in each layer can change during training. This phenomenon is known as internal covariate shift.\n",
    "   - Internal covariate shift makes training deep networks difficult because the learning rate and other hyperparameters must be carefully adjusted as training progresses to prevent convergence issues.\n",
    "\n",
    "**2. Batch Normalization (BN) Overview:**\n",
    "   - Batch normalization was introduced as a technique to mitigate internal covariate shift and stabilize the training of deep networks.\n",
    "   - It operates on a per-feature basis (i.e., per neuron or channel) in each layer of the network.\n",
    "   - The core idea is to normalize the input of each layer by subtracting the mean and dividing by the standard deviation of the mini-batch during training.\n",
    "\n",
    "**3. How Batch Normalization Works:**\n",
    "   - Given a mini-batch of data with features for a particular layer, the steps of batch normalization are as follows:\n",
    "     1. Compute the mean and standard deviation of the features in the mini-batch.\n",
    "     2. Normalize each feature by subtracting the mean and dividing by the standard deviation.\n",
    "     3. Scale and shift the normalized values using learnable parameters (gamma and beta).\n",
    "     4. The scaled and shifted values are the output of the batch normalization layer and are used as inputs to the next layer.\n",
    "     5. During inference (i.e., when making predictions), the mean and standard deviation used for normalization are typically computed over the entire training dataset or a moving average of them.\n",
    "\n",
    "**4. Advantages of Batch Normalization:**\n",
    "   - Accelerated training: Batch normalization helps neural networks converge faster because it reduces the internal covariate shift problem, enabling the use of higher learning rates and quicker convergence.\n",
    "   - Regularization effect: It acts as a form of regularization, reducing the need for dropout or other regularization techniques.\n",
    "   - Improved generalization: BN tends to improve the generalization performance of the network, reducing the risk of overfitting.\n",
    "   - Reduced sensitivity to initialization: Networks with batch normalization are less sensitive to weight initialization choices.\n",
    "\n",
    "**5. Drawbacks:**\n",
    "   - Increased memory and computation: Batch normalization introduces additional parameters (gamma and beta) and requires storing mean and standard deviation statistics for each layer, which increases memory usage.\n",
    "   - Dependency on batch size: Performance can be sensitive to the choice of batch size during training.\n",
    "\n",
    "Batch normalization has become a standard component in many deep neural network architectures and has contributed significantly to the success of training deep networks in various applications, including computer vision, natural language processing, and reinforcement learning."
   ]
  },
  {
   "cell_type": "markdown",
   "id": "a2a2ef46-0997-4317-98eb-ace9c0885552",
   "metadata": {},
   "source": [
    "2. Describe the benefits of using batch normalization during training\n",
    "\n",
    "Answer(2):\n",
    "\n",
    "Batch normalization (BN) offers several significant benefits when used during the training of artificial neural networks. These benefits contribute to more stable and efficient training of deep networks and lead to improved model performance. Here are the key advantages of using batch normalization during training:\n",
    "\n",
    "1. **Accelerated Training Convergence:**\n",
    "   - BN addresses the internal covariate shift problem by normalizing the input to each layer during training. This normalization helps to stabilize the learning process, allowing the network to converge faster.\n",
    "   - Networks with BN layers often require fewer training iterations to reach convergence, reducing the overall training time.\n",
    "\n",
    "2. **Increased Learning Rates:**\n",
    "   - With batch normalization, it's possible to use larger learning rates without the risk of diverging or oscillating during training. This is because the normalization process reduces the sensitivity of the network's weights to the scale of the input data.\n",
    "\n",
    "3. **Reduced Vanishing and Exploding Gradients:**\n",
    "   - Normalizing inputs prevents the gradients from becoming too small (vanishing gradients) or too large (exploding gradients) during backpropagation.\n",
    "   - This allows for training deeper networks without suffering from issues related to gradient scaling.\n",
    "\n",
    "4. **Regularization Effect:**\n",
    "   - Batch normalization acts as a form of regularization by adding a small amount of noise to each feature in the mini-batch. This noise helps reduce overfitting, potentially eliminating the need for other regularization techniques like dropout.\n",
    "\n",
    "5. **Improved Generalization:**\n",
    "   - Models trained with BN tend to generalize better to unseen data because they are less prone to overfitting during training. The regularization effect helps the network capture more robust and meaningful features.\n",
    "\n",
    "6. **Reduced Dependency on Weight Initialization:**\n",
    "   - BN reduces the sensitivity of deep networks to the choice of weight initialization, making it easier to train networks with various architectures.\n",
    "\n",
    "7. **Applicability to Various Network Architectures:**\n",
    "   - Batch normalization is a versatile technique that can be applied to different types of neural networks, including convolutional neural networks (CNNs), recurrent neural networks (RNNs), and fully connected networks.\n",
    "\n",
    "8. **Improved Training of Very Deep Networks:**\n",
    "   - BN is particularly valuable when training very deep networks with many layers. It enables the successful training of architectures with hundreds or even thousands of layers, such as deep residual networks (ResNets) and transformer models.\n",
    "\n",
    "9. **Reduced Mode Collapse in Generative Models:**\n",
    "   - In generative models like Generative Adversarial Networks (GANs) and Variational Autoencoders (VAEs), batch normalization can help mitigate mode collapse by stabilizing the learning dynamics of the generator network.\n",
    "\n",
    "10. **Consistent Behavior Across Different Batch Sizes:**\n",
    "    - While the performance of networks can be sensitive to batch size in the absence of BN, models with BN layers tend to exhibit more consistent behavior across different batch sizes, making them easier to train.\n",
    "\n",
    "In summary, batch normalization is a powerful technique that significantly improves the training of deep neural networks by addressing issues like internal covariate shift, accelerating convergence, and enhancing model generalization. It has become a standard practice in the training of deep learning models across various domains and applications."
   ]
  },
  {
   "cell_type": "markdown",
   "id": "d747b15b-2292-4271-86f8-4f2dd8add4fc",
   "metadata": {},
   "source": [
    "3. Discuss the working principle of batch normalization, including the normalization step and the learnable parameters.\n",
    "\n",
    "Answer(3)\n",
    "\n",
    "Batch normalization (BN) works by normalizing the input of each layer within a neural network during training. It introduces learnable parameters to scale and shift the normalized values. The core working principle of BN involves several steps:\n",
    "\n",
    "**1. Input Normalization:**\n",
    "   - Given a mini-batch of data with features for a particular layer, the first step of batch normalization is to compute the mean and standard deviation of these features within the mini-batch.\n",
    "\n",
    "   - For a feature `x` in the mini-batch, the mean (`μ`) and standard deviation (`σ`) are calculated:\n",
    "     - `μ = (1 / m) * ∑x_i` (sum of feature values in the mini-batch divided by the batch size `m`)\n",
    "     - `σ = sqrt((1 / m) * ∑(x_i - μ)^2)` (square root of the average squared difference from the mean)\n",
    "\n",
    "   - The goal is to make the mean of the mini-batch close to zero and the standard deviation close to one, which helps stabilize the training process.\n",
    "\n",
    "**2. Normalization:**\n",
    "   - Once the mean (`μ`) and standard deviation (`σ`) are computed, each feature in the mini-batch is normalized using these statistics.\n",
    "   \n",
    "   - The normalized value (`x̂`) for each feature is calculated as follows:\n",
    "     - `x̂ = (x - μ) / (σ + ε)`\n",
    "   \n",
    "   - Here, `ε` is a small constant (usually a very small positive value like 1e-5) added to the denominator to prevent division by zero.\n",
    "\n",
    "   - The normalization step ensures that the distribution of each feature is approximately centered around zero with a standard deviation close to one.\n",
    "\n",
    "**3. Scaling and Shifting:**\n",
    "   - The normalized values `x̂` are further scaled and shifted using learnable parameters specific to the layer. These parameters are typically referred to as `gamma` (γ) and `beta` (β).\n",
    "\n",
    "   - The scaled and shifted values (`y`) are calculated as follows:\n",
    "     - `y = γ * x̂ + β`\n",
    "\n",
    "   - These parameters `γ` and `β` are learned during training through backpropagation and are updated using gradient descent. They allow the model to learn the optimal scaling and shifting for the normalized values.\n",
    "\n",
    "**4. Output of Batch Normalization Layer:**\n",
    "   - The scaled and shifted values (`y`) are the output of the batch normalization layer and are used as inputs to the next layer in the neural network.\n",
    "\n",
    "**5. During Inference:**\n",
    "   - During the inference phase (i.e., when making predictions), the mean (`μ`) and standard deviation (`σ`) used for normalization are typically computed over the entire training dataset or using a moving average of these statistics.\n",
    "\n",
    "**Benefits:**\n",
    "   - Batch normalization helps in mitigating issues related to internal covariate shift, accelerates training convergence, allows for the use of larger learning rates, and acts as a form of regularization.\n",
    "\n",
    "In summary, batch normalization normalizes the input of each layer by scaling and shifting the values, making them more stable and facilitating faster and more stable training of deep neural networks. The learnable parameters `gamma` and `beta` allow the network to adapt and fine-tune the normalization as it learns during training. This normalization technique has become an integral part of training deep neural networks and has contributed significantly to the success of deep learning in various applications."
   ]
  },
  {
   "cell_type": "markdown",
   "id": "2d3385b7",
   "metadata": {},
   "source": [
    "### Q2. Implementation"
   ]
  },
  {
   "cell_type": "markdown",
   "id": "b7b02dff",
   "metadata": {},
   "source": [
    "1. Choose a dataset of your choice (e.g., MNIST, CIFAR-10) and preprocess it"
   ]
  },
  {
   "cell_type": "code",
   "execution_count": 78,
   "id": "f2ac6b97",
   "metadata": {},
   "outputs": [],
   "source": [
    "# Importing Libraries\n",
    "import tensorflow as tf\n",
    "import matplotlib.pyplot as plt\n",
    "import numpy as np\n",
    "import pandas as pd\n",
    "import seaborn as sns\n",
    "import os\n"
   ]
  },
  {
   "cell_type": "code",
   "execution_count": 79,
   "id": "bb97ac8c",
   "metadata": {},
   "outputs": [
    {
     "name": "stdout",
     "output_type": "stream",
     "text": [
      "TensorFlow Version 2.13.0\n"
     ]
    }
   ],
   "source": [
    "import tensorflow as tf\n",
    "\n",
    "# Checking version of TensorFlow (which includes Keras)\n",
    "print(f\"TensorFlow Version {tf.__version__}\")"
   ]
  },
  {
   "cell_type": "code",
   "execution_count": 80,
   "id": "93ee8a29",
   "metadata": {},
   "outputs": [
    {
     "data": {
      "text/plain": [
       "[]"
      ]
     },
     "execution_count": 80,
     "metadata": {},
     "output_type": "execute_result"
    }
   ],
   "source": [
    "tf.config.list_physical_devices(\"GPU\")"
   ]
  },
  {
   "cell_type": "markdown",
   "id": "ca9986b1",
   "metadata": {},
   "source": [
    "### Creating a simple classifier using keras on MNIST data"
   ]
  },
  {
   "cell_type": "code",
   "execution_count": 81,
   "id": "3e8c8d4a",
   "metadata": {},
   "outputs": [],
   "source": [
    "mnist = tf.keras.datasets.mnist\n",
    "(X_train_full, y_train_full), (X_test, y_test) = mnist.load_data()"
   ]
  },
  {
   "cell_type": "code",
   "execution_count": 82,
   "id": "bf070ef3",
   "metadata": {},
   "outputs": [
    {
     "data": {
      "text/plain": [
       "((60000, 28, 28), (10000, 28, 28), 28)"
      ]
     },
     "execution_count": 82,
     "metadata": {},
     "output_type": "execute_result"
    }
   ],
   "source": [
    "X_train_full.shape,X_test.shape,len(X_test[1][0])"
   ]
  },
  {
   "cell_type": "code",
   "execution_count": 83,
   "id": "75d65cd4",
   "metadata": {},
   "outputs": [],
   "source": [
    "# create a validation data set from the full training data \n",
    "# Scale the data between 0 to 1 by dividing it by 255. as its an unsigned data between 0-255 range\n",
    "X_valid, X_train = X_train_full[:5000] / 255., X_train_full[5000:] / 255.\n",
    "y_valid, y_train = y_train_full[:5000], y_train_full[5000:]\n",
    "\n",
    "# scale the test set as well\n",
    "X_test = X_test / 255."
   ]
  },
  {
   "cell_type": "code",
   "execution_count": 84,
   "id": "53a71588",
   "metadata": {},
   "outputs": [
    {
     "data": {
      "text/plain": [
       "55000"
      ]
     },
     "execution_count": 84,
     "metadata": {},
     "output_type": "execute_result"
    }
   ],
   "source": [
    "len(X_train_full[5000:] )"
   ]
  },
  {
   "cell_type": "code",
   "execution_count": 85,
   "id": "84390b33",
   "metadata": {},
   "outputs": [
    {
     "data": {
      "image/png": "[encoded data removed]",
      "text/plain": [
       "<Figure size 640x480 with 1 Axes>"
      ]
     },
     "metadata": {},
     "output_type": "display_data"
    }
   ],
   "source": [
    "# Lets view some data \n",
    "plt.imshow(X_train[5], cmap=\"binary\")\n",
    "plt.show()"
   ]
  },
  {
   "cell_type": "code",
   "execution_count": 86,
   "id": "0deb9ace",
   "metadata": {},
   "outputs": [
    {
     "data": {
      "text/plain": [
       "<Axes: >"
      ]
     },
     "execution_count": 86,
     "metadata": {},
     "output_type": "execute_result"
    },
    {
     "data": {
      "image/png": "[encoded data removed]",
      "text/plain": [
       "<Figure size 500x500 with 2 Axes>"
      ]
     },
     "metadata": {},
     "output_type": "display_data"
    }
   ],
   "source": [
    "plt.figure(figsize=(5,5))\n",
    "sns.heatmap(X_train[0], annot=True, cmap=\"binary\")"
   ]
  },
  {
   "cell_type": "markdown",
   "id": "1fac27a3",
   "metadata": {},
   "source": [
    "### 2. Implement a simple feedforward neural network using any deep learning framework/library (e.g., TensorFlow, PyTorch)"
   ]
  },
  {
   "cell_type": "code",
   "execution_count": 87,
   "id": "0e4767ba",
   "metadata": {},
   "outputs": [],
   "source": [
    "# Creating layers of ANN\n",
    "LAYERS = [tf.keras.layers.Flatten(input_shape=[28, 28], name=\"inputLayer\"),\n",
    "          tf.keras.layers.Dense(300, activation=\"relu\", name=\"hiddenLayer1\"),\n",
    "          tf.keras.layers.Dense(100, activation=\"relu\", name=\"hiddenLayer2\"),\n",
    "          tf.keras.layers.Dense(10, activation=\"softmax\", name=\"outputLayer\")]\n",
    "\n",
    "model_clf = tf.keras.models.Sequential(LAYERS)"
   ]
  },
  {
   "cell_type": "code",
   "execution_count": 88,
   "id": "a150345e",
   "metadata": {},
   "outputs": [
    {
     "name": "stdout",
     "output_type": "stream",
     "text": [
      "Model: \"sequential_9\"\n",
      "_________________________________________________________________\n",
      " Layer (type)                Output Shape              Param #   \n",
      "=================================================================\n",
      " inputLayer (Flatten)        (None, 784)               0         \n",
      "                                                                 \n",
      " hiddenLayer1 (Dense)        (None, 300)               235500    \n",
      "                                                                 \n",
      " hiddenLayer2 (Dense)        (None, 100)               30100     \n",
      "                                                                 \n",
      " outputLayer (Dense)         (None, 10)                1010      \n",
      "                                                                 \n",
      "=================================================================\n",
      "Total params: 266610 (1.02 MB)\n",
      "Trainable params: 266610 (1.02 MB)\n",
      "Non-trainable params: 0 (0.00 Byte)\n",
      "_________________________________________________________________\n"
     ]
    }
   ],
   "source": [
    "model_clf.summary()"
   ]
  },
  {
   "cell_type": "markdown",
   "id": "72ee0d2b",
   "metadata": {},
   "source": [
    "### 3. Train the neural network on the chosen dataset without using batch normalization"
   ]
  },
  {
   "cell_type": "code",
   "execution_count": 89,
   "id": "8a979a73",
   "metadata": {},
   "outputs": [],
   "source": [
    "LOSS_FUNCTION = \"sparse_categorical_crossentropy\" # use => tf.losses.sparse_categorical_crossentropy\n",
    "OPTIMIZER = \"SGD\" # or use with custom learning rate=> tf.keras.optimizers.SGD(0.02)\n",
    "METRICS = [\"accuracy\"]\n",
    "\n",
    "model_clf.compile(loss=LOSS_FUNCTION,\n",
    "              optimizer=OPTIMIZER,\n",
    "              metrics=METRICS)"
   ]
  },
  {
   "cell_type": "code",
   "execution_count": 90,
   "id": "ca68f7c5",
   "metadata": {},
   "outputs": [
    {
     "name": "stdout",
     "output_type": "stream",
     "text": [
      "Epoch 1/30\n",
      "1719/1719 [==============================] - 2s 828us/step - loss: 0.6073 - accuracy: 0.8433 - val_loss: 0.3098 - val_accuracy: 0.9184\n",
      "Epoch 2/30\n",
      "1719/1719 [==============================] - 1s 791us/step - loss: 0.2843 - accuracy: 0.9185 - val_loss: 0.2368 - val_accuracy: 0.9368\n",
      "Epoch 3/30\n",
      "1719/1719 [==============================] - 1s 792us/step - loss: 0.2312 - accuracy: 0.9337 - val_loss: 0.1984 - val_accuracy: 0.9458\n",
      "Epoch 4/30\n",
      "1719/1719 [==============================] - 1s 789us/step - loss: 0.1965 - accuracy: 0.9436 - val_loss: 0.1814 - val_accuracy: 0.9518\n",
      "Epoch 5/30\n",
      "1719/1719 [==============================] - 1s 789us/step - loss: 0.1718 - accuracy: 0.9503 - val_loss: 0.1586 - val_accuracy: 0.9568\n",
      "Epoch 6/30\n",
      "1719/1719 [==============================] - 1s 784us/step - loss: 0.1521 - accuracy: 0.9563 - val_loss: 0.1446 - val_accuracy: 0.9616\n",
      "Epoch 7/30\n",
      "1719/1719 [==============================] - 1s 779us/step - loss: 0.1358 - accuracy: 0.9610 - val_loss: 0.1333 - val_accuracy: 0.9640\n",
      "Epoch 8/30\n",
      "1719/1719 [==============================] - 1s 794us/step - loss: 0.1231 - accuracy: 0.9646 - val_loss: 0.1237 - val_accuracy: 0.9662\n",
      "Epoch 9/30\n",
      "1719/1719 [==============================] - 1s 790us/step - loss: 0.1120 - accuracy: 0.9683 - val_loss: 0.1152 - val_accuracy: 0.9672\n",
      "Epoch 10/30\n",
      "1719/1719 [==============================] - 1s 795us/step - loss: 0.1020 - accuracy: 0.9711 - val_loss: 0.1080 - val_accuracy: 0.9704\n",
      "Epoch 11/30\n",
      "1719/1719 [==============================] - 1s 769us/step - loss: 0.0936 - accuracy: 0.9735 - val_loss: 0.1025 - val_accuracy: 0.9688\n",
      "Epoch 12/30\n",
      "1719/1719 [==============================] - 1s 781us/step - loss: 0.0862 - accuracy: 0.9758 - val_loss: 0.0989 - val_accuracy: 0.9712\n",
      "Epoch 13/30\n",
      "1719/1719 [==============================] - 1s 787us/step - loss: 0.0799 - accuracy: 0.9777 - val_loss: 0.0941 - val_accuracy: 0.9722\n",
      "Epoch 14/30\n",
      "1719/1719 [==============================] - 1s 793us/step - loss: 0.0744 - accuracy: 0.9791 - val_loss: 0.0911 - val_accuracy: 0.9718\n",
      "Epoch 15/30\n",
      "1719/1719 [==============================] - 1s 790us/step - loss: 0.0686 - accuracy: 0.9816 - val_loss: 0.0890 - val_accuracy: 0.9746\n",
      "Epoch 16/30\n",
      "1719/1719 [==============================] - 1s 791us/step - loss: 0.0643 - accuracy: 0.9822 - val_loss: 0.0900 - val_accuracy: 0.9730\n",
      "Epoch 17/30\n",
      "1719/1719 [==============================] - 1s 792us/step - loss: 0.0600 - accuracy: 0.9836 - val_loss: 0.0830 - val_accuracy: 0.9754\n",
      "Epoch 18/30\n",
      "1719/1719 [==============================] - 1s 789us/step - loss: 0.0564 - accuracy: 0.9848 - val_loss: 0.0826 - val_accuracy: 0.9764\n",
      "Epoch 19/30\n",
      "1719/1719 [==============================] - 1s 806us/step - loss: 0.0524 - accuracy: 0.9861 - val_loss: 0.0800 - val_accuracy: 0.9774\n",
      "Epoch 20/30\n",
      "1719/1719 [==============================] - 1s 800us/step - loss: 0.0493 - accuracy: 0.9865 - val_loss: 0.0767 - val_accuracy: 0.9784\n",
      "Epoch 21/30\n",
      "1719/1719 [==============================] - 1s 799us/step - loss: 0.0463 - accuracy: 0.9878 - val_loss: 0.0769 - val_accuracy: 0.9784\n",
      "Epoch 22/30\n",
      "1719/1719 [==============================] - 1s 797us/step - loss: 0.0436 - accuracy: 0.9886 - val_loss: 0.0747 - val_accuracy: 0.9776\n",
      "Epoch 23/30\n",
      "1719/1719 [==============================] - 1s 796us/step - loss: 0.0410 - accuracy: 0.9893 - val_loss: 0.0750 - val_accuracy: 0.9776\n",
      "Epoch 24/30\n",
      "1719/1719 [==============================] - 1s 800us/step - loss: 0.0387 - accuracy: 0.9899 - val_loss: 0.0729 - val_accuracy: 0.9800\n",
      "Epoch 25/30\n",
      "1719/1719 [==============================] - 1s 805us/step - loss: 0.0364 - accuracy: 0.9910 - val_loss: 0.0715 - val_accuracy: 0.9792\n",
      "Epoch 26/30\n",
      "1719/1719 [==============================] - 1s 811us/step - loss: 0.0344 - accuracy: 0.9913 - val_loss: 0.0707 - val_accuracy: 0.9810\n",
      "Epoch 27/30\n",
      "1719/1719 [==============================] - 1s 805us/step - loss: 0.0324 - accuracy: 0.9921 - val_loss: 0.0709 - val_accuracy: 0.9780\n",
      "Epoch 28/30\n",
      "1719/1719 [==============================] - 1s 808us/step - loss: 0.0306 - accuracy: 0.9926 - val_loss: 0.0724 - val_accuracy: 0.9792\n",
      "Epoch 29/30\n",
      "1719/1719 [==============================] - 1s 801us/step - loss: 0.0288 - accuracy: 0.9933 - val_loss: 0.0723 - val_accuracy: 0.9788\n",
      "Epoch 30/30\n",
      "1719/1719 [==============================] - 1s 807us/step - loss: 0.0272 - accuracy: 0.9937 - val_loss: 0.0769 - val_accuracy: 0.9772\n"
     ]
    }
   ],
   "source": [
    "# training\n",
    "\n",
    "EPOCHS = 30\n",
    "VALIDATION_SET = (X_valid, y_valid)\n",
    "\n",
    "history = model_clf.fit(X_train, y_train, epochs=EPOCHS,\n",
    "                    validation_data=VALIDATION_SET, batch_size=32)"
   ]
  },
  {
   "cell_type": "code",
   "execution_count": 91,
   "id": "bfb2a0bc",
   "metadata": {},
   "outputs": [
    {
     "data": {
      "text/plain": [
       "{'verbose': 1, 'epochs': 30, 'steps': 1719}"
      ]
     },
     "execution_count": 91,
     "metadata": {},
     "output_type": "execute_result"
    }
   ],
   "source": [
    "history.params"
   ]
  },
  {
   "cell_type": "code",
   "execution_count": 92,
   "id": "80dc61ee",
   "metadata": {},
   "outputs": [
    {
     "data": {
      "text/html": [
       "<div>\n",
       "<style scoped>\n",
       "    .dataframe tbody tr th:only-of-type {\n",
       "        vertical-align: middle;\n",
       "    }\n",
       "\n",
       "    .dataframe tbody tr th {\n",
       "        vertical-align: top;\n",
       "    }\n",
       "\n",
       "    .dataframe thead th {\n",
       "        text-align: right;\n",
       "    }\n",
       "</style>\n",
       "<table border=\"1\" class=\"dataframe\">\n",
       "  <thead>\n",
       "    <tr style=\"text-align: right;\">\n",
       "      <th></th>\n",
       "      <th>loss</th>\n",
       "      <th>accuracy</th>\n",
       "      <th>val_loss</th>\n",
       "      <th>val_accuracy</th>\n",
       "    </tr>\n",
       "  </thead>\n",
       "  <tbody>\n",
       "    <tr>\n",
       "      <th>0</th>\n",
       "      <td>0.607272</td>\n",
       "      <td>0.843273</td>\n",
       "      <td>0.309770</td>\n",
       "      <td>0.9184</td>\n",
       "    </tr>\n",
       "    <tr>\n",
       "      <th>1</th>\n",
       "      <td>0.284279</td>\n",
       "      <td>0.918473</td>\n",
       "      <td>0.236808</td>\n",
       "      <td>0.9368</td>\n",
       "    </tr>\n",
       "    <tr>\n",
       "      <th>2</th>\n",
       "      <td>0.231209</td>\n",
       "      <td>0.933709</td>\n",
       "      <td>0.198357</td>\n",
       "      <td>0.9458</td>\n",
       "    </tr>\n",
       "    <tr>\n",
       "      <th>3</th>\n",
       "      <td>0.196491</td>\n",
       "      <td>0.943600</td>\n",
       "      <td>0.181382</td>\n",
       "      <td>0.9518</td>\n",
       "    </tr>\n",
       "    <tr>\n",
       "      <th>4</th>\n",
       "      <td>0.171794</td>\n",
       "      <td>0.950327</td>\n",
       "      <td>0.158565</td>\n",
       "      <td>0.9568</td>\n",
       "    </tr>\n",
       "    <tr>\n",
       "      <th>5</th>\n",
       "      <td>0.152063</td>\n",
       "      <td>0.956273</td>\n",
       "      <td>0.144613</td>\n",
       "      <td>0.9616</td>\n",
       "    </tr>\n",
       "    <tr>\n",
       "      <th>6</th>\n",
       "      <td>0.135814</td>\n",
       "      <td>0.960982</td>\n",
       "      <td>0.133259</td>\n",
       "      <td>0.9640</td>\n",
       "    </tr>\n",
       "    <tr>\n",
       "      <th>7</th>\n",
       "      <td>0.123063</td>\n",
       "      <td>0.964636</td>\n",
       "      <td>0.123657</td>\n",
       "      <td>0.9662</td>\n",
       "    </tr>\n",
       "    <tr>\n",
       "      <th>8</th>\n",
       "      <td>0.112029</td>\n",
       "      <td>0.968345</td>\n",
       "      <td>0.115177</td>\n",
       "      <td>0.9672</td>\n",
       "    </tr>\n",
       "    <tr>\n",
       "      <th>9</th>\n",
       "      <td>0.102029</td>\n",
       "      <td>0.971055</td>\n",
       "      <td>0.108042</td>\n",
       "      <td>0.9704</td>\n",
       "    </tr>\n",
       "    <tr>\n",
       "      <th>10</th>\n",
       "      <td>0.093610</td>\n",
       "      <td>0.973527</td>\n",
       "      <td>0.102521</td>\n",
       "      <td>0.9688</td>\n",
       "    </tr>\n",
       "    <tr>\n",
       "      <th>11</th>\n",
       "      <td>0.086245</td>\n",
       "      <td>0.975800</td>\n",
       "      <td>0.098899</td>\n",
       "      <td>0.9712</td>\n",
       "    </tr>\n",
       "    <tr>\n",
       "      <th>12</th>\n",
       "      <td>0.079926</td>\n",
       "      <td>0.977691</td>\n",
       "      <td>0.094123</td>\n",
       "      <td>0.9722</td>\n",
       "    </tr>\n",
       "    <tr>\n",
       "      <th>13</th>\n",
       "      <td>0.074352</td>\n",
       "      <td>0.979055</td>\n",
       "      <td>0.091125</td>\n",
       "      <td>0.9718</td>\n",
       "    </tr>\n",
       "    <tr>\n",
       "      <th>14</th>\n",
       "      <td>0.068564</td>\n",
       "      <td>0.981564</td>\n",
       "      <td>0.089010</td>\n",
       "      <td>0.9746</td>\n",
       "    </tr>\n",
       "    <tr>\n",
       "      <th>15</th>\n",
       "      <td>0.064339</td>\n",
       "      <td>0.982236</td>\n",
       "      <td>0.089990</td>\n",
       "      <td>0.9730</td>\n",
       "    </tr>\n",
       "    <tr>\n",
       "      <th>16</th>\n",
       "      <td>0.060012</td>\n",
       "      <td>0.983582</td>\n",
       "      <td>0.083023</td>\n",
       "      <td>0.9754</td>\n",
       "    </tr>\n",
       "    <tr>\n",
       "      <th>17</th>\n",
       "      <td>0.056412</td>\n",
       "      <td>0.984782</td>\n",
       "      <td>0.082598</td>\n",
       "      <td>0.9764</td>\n",
       "    </tr>\n",
       "    <tr>\n",
       "      <th>18</th>\n",
       "      <td>0.052385</td>\n",
       "      <td>0.986073</td>\n",
       "      <td>0.080020</td>\n",
       "      <td>0.9774</td>\n",
       "    </tr>\n",
       "    <tr>\n",
       "      <th>19</th>\n",
       "      <td>0.049301</td>\n",
       "      <td>0.986455</td>\n",
       "      <td>0.076695</td>\n",
       "      <td>0.9784</td>\n",
       "    </tr>\n",
       "    <tr>\n",
       "      <th>20</th>\n",
       "      <td>0.046273</td>\n",
       "      <td>0.987836</td>\n",
       "      <td>0.076877</td>\n",
       "      <td>0.9784</td>\n",
       "    </tr>\n",
       "    <tr>\n",
       "      <th>21</th>\n",
       "      <td>0.043551</td>\n",
       "      <td>0.988636</td>\n",
       "      <td>0.074653</td>\n",
       "      <td>0.9776</td>\n",
       "    </tr>\n",
       "    <tr>\n",
       "      <th>22</th>\n",
       "      <td>0.041028</td>\n",
       "      <td>0.989273</td>\n",
       "      <td>0.074964</td>\n",
       "      <td>0.9776</td>\n",
       "    </tr>\n",
       "    <tr>\n",
       "      <th>23</th>\n",
       "      <td>0.038707</td>\n",
       "      <td>0.989909</td>\n",
       "      <td>0.072867</td>\n",
       "      <td>0.9800</td>\n",
       "    </tr>\n",
       "    <tr>\n",
       "      <th>24</th>\n",
       "      <td>0.036411</td>\n",
       "      <td>0.990982</td>\n",
       "      <td>0.071452</td>\n",
       "      <td>0.9792</td>\n",
       "    </tr>\n",
       "    <tr>\n",
       "      <th>25</th>\n",
       "      <td>0.034408</td>\n",
       "      <td>0.991291</td>\n",
       "      <td>0.070716</td>\n",
       "      <td>0.9810</td>\n",
       "    </tr>\n",
       "    <tr>\n",
       "      <th>26</th>\n",
       "      <td>0.032350</td>\n",
       "      <td>0.992127</td>\n",
       "      <td>0.070862</td>\n",
       "      <td>0.9780</td>\n",
       "    </tr>\n",
       "    <tr>\n",
       "      <th>27</th>\n",
       "      <td>0.030578</td>\n",
       "      <td>0.992564</td>\n",
       "      <td>0.072442</td>\n",
       "      <td>0.9792</td>\n",
       "    </tr>\n",
       "    <tr>\n",
       "      <th>28</th>\n",
       "      <td>0.028765</td>\n",
       "      <td>0.993327</td>\n",
       "      <td>0.072255</td>\n",
       "      <td>0.9788</td>\n",
       "    </tr>\n",
       "    <tr>\n",
       "      <th>29</th>\n",
       "      <td>0.027199</td>\n",
       "      <td>0.993655</td>\n",
       "      <td>0.076948</td>\n",
       "      <td>0.9772</td>\n",
       "    </tr>\n",
       "  </tbody>\n",
       "</table>\n",
       "</div>"
      ],
      "text/plain": [
       "        loss  accuracy  val_loss  val_accuracy\n",
       "0   0.607272  0.843273  0.309770        0.9184\n",
       "1   0.284279  0.918473  0.236808        0.9368\n",
       "2   0.231209  0.933709  0.198357        0.9458\n",
       "3   0.196491  0.943600  0.181382        0.9518\n",
       "4   0.171794  0.950327  0.158565        0.9568\n",
       "5   0.152063  0.956273  0.144613        0.9616\n",
       "6   0.135814  0.960982  0.133259        0.9640\n",
       "7   0.123063  0.964636  0.123657        0.9662\n",
       "8   0.112029  0.968345  0.115177        0.9672\n",
       "9   0.102029  0.971055  0.108042        0.9704\n",
       "10  0.093610  0.973527  0.102521        0.9688\n",
       "11  0.086245  0.975800  0.098899        0.9712\n",
       "12  0.079926  0.977691  0.094123        0.9722\n",
       "13  0.074352  0.979055  0.091125        0.9718\n",
       "14  0.068564  0.981564  0.089010        0.9746\n",
       "15  0.064339  0.982236  0.089990        0.9730\n",
       "16  0.060012  0.983582  0.083023        0.9754\n",
       "17  0.056412  0.984782  0.082598        0.9764\n",
       "18  0.052385  0.986073  0.080020        0.9774\n",
       "19  0.049301  0.986455  0.076695        0.9784\n",
       "20  0.046273  0.987836  0.076877        0.9784\n",
       "21  0.043551  0.988636  0.074653        0.9776\n",
       "22  0.041028  0.989273  0.074964        0.9776\n",
       "23  0.038707  0.989909  0.072867        0.9800\n",
       "24  0.036411  0.990982  0.071452        0.9792\n",
       "25  0.034408  0.991291  0.070716        0.9810\n",
       "26  0.032350  0.992127  0.070862        0.9780\n",
       "27  0.030578  0.992564  0.072442        0.9792\n",
       "28  0.028765  0.993327  0.072255        0.9788\n",
       "29  0.027199  0.993655  0.076948        0.9772"
      ]
     },
     "execution_count": 92,
     "metadata": {},
     "output_type": "execute_result"
    }
   ],
   "source": [
    "pd.DataFrame(history.history)"
   ]
  },
  {
   "cell_type": "code",
   "execution_count": 93,
   "id": "7ef7b3d7",
   "metadata": {},
   "outputs": [
    {
     "name": "stdout",
     "output_type": "stream",
     "text": [
      "313/313 [==============================] - 0s 472us/step - loss: 0.0742 - accuracy: 0.9771\n"
     ]
    },
    {
     "data": {
      "text/plain": [
       "[0.07421650737524033, 0.9771000146865845]"
      ]
     },
     "execution_count": 93,
     "metadata": {},
     "output_type": "execute_result"
    }
   ],
   "source": [
    "model_clf.evaluate(X_test, y_test)"
   ]
  },
  {
   "cell_type": "code",
   "execution_count": 94,
   "id": "4dc8102f",
   "metadata": {},
   "outputs": [
    {
     "name": "stdout",
     "output_type": "stream",
     "text": [
      "1/1 [==============================] - 0s 36ms/step\n",
      "actual [7 2 1] , predicted [7 2 1]\n"
     ]
    }
   ],
   "source": [
    "x_new = X_test[:3]\n",
    "actual = y_test[:3]\n",
    "\n",
    "\n",
    "y_prob = model_clf.predict(x_new)\n",
    "y_pred = np.argmax(y_prob, axis = -1)\n",
    "\n",
    "print(f\"actual {actual} , predicted {y_pred}\")"
   ]
  },
  {
   "cell_type": "markdown",
   "id": "69ccfc15",
   "metadata": {},
   "source": [
    "### 4. Implement batch normalization layers in the neural network and train the model again"
   ]
  },
  {
   "cell_type": "code",
   "execution_count": 95,
   "id": "3207c80a",
   "metadata": {},
   "outputs": [],
   "source": [
    "from tensorflow.keras.models import Sequential\n",
    "from tensorflow.keras.layers import Dense, BatchNormalization\n",
    "\n",
    "BATCH_NOR_LAYERS = [tf.keras.layers.Flatten(input_shape=[28, 28], name=\"inputLayer\"),\n",
    "          tf.keras.layers.Dense(300, activation=\"relu\", name=\"hiddenLayer1\"),\n",
    "          tf.keras.layers.BatchNormalization(),  # Add batch normalization\n",
    "          tf.keras.layers.Dense(100, activation=\"relu\", name=\"hiddenLayer2\"),\n",
    "          tf.keras.layers.BatchNormalization(),  # Add batch normalization\n",
    "          tf.keras.layers.Dense(10, activation=\"softmax\", name=\"outputLayer\")]\n",
    "\n",
    "batch_nor_model_clf = tf.keras.models.Sequential(BATCH_NOR_LAYERS)\n"
   ]
  },
  {
   "cell_type": "code",
   "execution_count": 96,
   "id": "a023ec2c",
   "metadata": {},
   "outputs": [],
   "source": [
    "LOSS_FUNCTION = \"sparse_categorical_crossentropy\" # use => tf.losses.sparse_categorical_crossentropy\n",
    "OPTIMIZER = \"SGD\" # or use with custom learning rate=> tf.keras.optimizers.SGD(0.02)\n",
    "METRICS = [\"accuracy\"]\n",
    "\n",
    "batch_nor_model_clf.compile(loss=LOSS_FUNCTION,\n",
    "              optimizer=OPTIMIZER,\n",
    "              metrics=METRICS)"
   ]
  },
  {
   "cell_type": "code",
   "execution_count": 97,
   "id": "61ba7062",
   "metadata": {},
   "outputs": [
    {
     "name": "stdout",
     "output_type": "stream",
     "text": [
      "Epoch 1/30\n",
      "1719/1719 [==============================] - 2s 908us/step - loss: 0.3328 - accuracy: 0.9015 - val_loss: 0.1520 - val_accuracy: 0.9592\n",
      "Epoch 2/30\n",
      "1719/1719 [==============================] - 2s 874us/step - loss: 0.1646 - accuracy: 0.9525 - val_loss: 0.1145 - val_accuracy: 0.9686\n",
      "Epoch 3/30\n",
      "1719/1719 [==============================] - 1s 864us/step - loss: 0.1204 - accuracy: 0.9652 - val_loss: 0.0982 - val_accuracy: 0.9710\n",
      "Epoch 4/30\n",
      "1719/1719 [==============================] - 1s 860us/step - loss: 0.0964 - accuracy: 0.9721 - val_loss: 0.0880 - val_accuracy: 0.9736\n",
      "Epoch 5/30\n",
      "1719/1719 [==============================] - 1s 859us/step - loss: 0.0803 - accuracy: 0.9771 - val_loss: 0.0860 - val_accuracy: 0.9734\n",
      "Epoch 6/30\n",
      "1719/1719 [==============================] - 1s 854us/step - loss: 0.0678 - accuracy: 0.9800 - val_loss: 0.0838 - val_accuracy: 0.9748\n",
      "Epoch 7/30\n",
      "1719/1719 [==============================] - 1s 861us/step - loss: 0.0563 - accuracy: 0.9839 - val_loss: 0.0806 - val_accuracy: 0.9762\n",
      "Epoch 8/30\n",
      "1719/1719 [==============================] - 1s 855us/step - loss: 0.0485 - accuracy: 0.9860 - val_loss: 0.0804 - val_accuracy: 0.9766\n",
      "Epoch 9/30\n",
      "1719/1719 [==============================] - 1s 856us/step - loss: 0.0432 - accuracy: 0.9881 - val_loss: 0.0776 - val_accuracy: 0.9792\n",
      "Epoch 10/30\n",
      "1719/1719 [==============================] - 1s 854us/step - loss: 0.0382 - accuracy: 0.9893 - val_loss: 0.0765 - val_accuracy: 0.9778\n",
      "Epoch 11/30\n",
      "1719/1719 [==============================] - 1s 858us/step - loss: 0.0328 - accuracy: 0.9913 - val_loss: 0.0766 - val_accuracy: 0.9780\n",
      "Epoch 12/30\n",
      "1719/1719 [==============================] - 1s 859us/step - loss: 0.0300 - accuracy: 0.9922 - val_loss: 0.0752 - val_accuracy: 0.9804\n",
      "Epoch 13/30\n",
      "1719/1719 [==============================] - 1s 862us/step - loss: 0.0266 - accuracy: 0.9931 - val_loss: 0.0753 - val_accuracy: 0.9798\n",
      "Epoch 14/30\n",
      "1719/1719 [==============================] - 1s 862us/step - loss: 0.0243 - accuracy: 0.9934 - val_loss: 0.0761 - val_accuracy: 0.9798\n",
      "Epoch 15/30\n",
      "1719/1719 [==============================] - 1s 866us/step - loss: 0.0207 - accuracy: 0.9953 - val_loss: 0.0751 - val_accuracy: 0.9808\n",
      "Epoch 16/30\n",
      "1719/1719 [==============================] - 2s 873us/step - loss: 0.0198 - accuracy: 0.9952 - val_loss: 0.0767 - val_accuracy: 0.9788\n",
      "Epoch 17/30\n",
      "1719/1719 [==============================] - 2s 873us/step - loss: 0.0189 - accuracy: 0.9952 - val_loss: 0.0758 - val_accuracy: 0.9810\n",
      "Epoch 18/30\n",
      "1719/1719 [==============================] - 1s 869us/step - loss: 0.0168 - accuracy: 0.9962 - val_loss: 0.0746 - val_accuracy: 0.9800\n",
      "Epoch 19/30\n",
      "1719/1719 [==============================] - 1s 868us/step - loss: 0.0151 - accuracy: 0.9967 - val_loss: 0.0757 - val_accuracy: 0.9808\n",
      "Epoch 20/30\n",
      "1719/1719 [==============================] - 2s 873us/step - loss: 0.0145 - accuracy: 0.9965 - val_loss: 0.0754 - val_accuracy: 0.9814\n",
      "Epoch 21/30\n",
      "1719/1719 [==============================] - 2s 874us/step - loss: 0.0132 - accuracy: 0.9972 - val_loss: 0.0736 - val_accuracy: 0.9824\n",
      "Epoch 22/30\n",
      "1719/1719 [==============================] - 2s 876us/step - loss: 0.0124 - accuracy: 0.9972 - val_loss: 0.0754 - val_accuracy: 0.9806\n",
      "Epoch 23/30\n",
      "1719/1719 [==============================] - 2s 879us/step - loss: 0.0116 - accuracy: 0.9976 - val_loss: 0.0772 - val_accuracy: 0.9794\n",
      "Epoch 24/30\n",
      "1719/1719 [==============================] - 1s 872us/step - loss: 0.0114 - accuracy: 0.9978 - val_loss: 0.0768 - val_accuracy: 0.9804\n",
      "Epoch 25/30\n",
      "1719/1719 [==============================] - 2s 876us/step - loss: 0.0101 - accuracy: 0.9980 - val_loss: 0.0760 - val_accuracy: 0.9818\n",
      "Epoch 26/30\n",
      "1719/1719 [==============================] - 2s 873us/step - loss: 0.0100 - accuracy: 0.9980 - val_loss: 0.0771 - val_accuracy: 0.9804\n",
      "Epoch 27/30\n",
      "1719/1719 [==============================] - 2s 875us/step - loss: 0.0094 - accuracy: 0.9981 - val_loss: 0.0793 - val_accuracy: 0.9800\n",
      "Epoch 28/30\n",
      "1719/1719 [==============================] - 2s 875us/step - loss: 0.0091 - accuracy: 0.9981 - val_loss: 0.0793 - val_accuracy: 0.9800\n",
      "Epoch 29/30\n",
      "1719/1719 [==============================] - 2s 883us/step - loss: 0.0078 - accuracy: 0.9986 - val_loss: 0.0788 - val_accuracy: 0.9812\n",
      "Epoch 30/30\n",
      "1719/1719 [==============================] - 2s 878us/step - loss: 0.0081 - accuracy: 0.9983 - val_loss: 0.0822 - val_accuracy: 0.9804\n"
     ]
    }
   ],
   "source": [
    "# training\n",
    "\n",
    "EPOCHS = 30\n",
    "VALIDATION_SET = (X_valid, y_valid)\n",
    "\n",
    "batch_nor_history = batch_nor_model_clf.fit(X_train, y_train, epochs=EPOCHS,\n",
    "                    validation_data=VALIDATION_SET, batch_size=32)"
   ]
  },
  {
   "cell_type": "markdown",
   "id": "9abd2862",
   "metadata": {},
   "source": [
    "### 4. Compare the training and validation performance (e.g., accuracy, loss) between the models with and without batch normalizationr"
   ]
  },
  {
   "cell_type": "code",
   "execution_count": 98,
   "id": "bc81d680",
   "metadata": {},
   "outputs": [
    {
     "data": {
      "text/html": [
       "<div>\n",
       "<style scoped>\n",
       "    .dataframe tbody tr th:only-of-type {\n",
       "        vertical-align: middle;\n",
       "    }\n",
       "\n",
       "    .dataframe tbody tr th {\n",
       "        vertical-align: top;\n",
       "    }\n",
       "\n",
       "    .dataframe thead th {\n",
       "        text-align: right;\n",
       "    }\n",
       "</style>\n",
       "<table border=\"1\" class=\"dataframe\">\n",
       "  <thead>\n",
       "    <tr style=\"text-align: right;\">\n",
       "      <th></th>\n",
       "      <th>loss</th>\n",
       "      <th>accuracy</th>\n",
       "      <th>val_loss</th>\n",
       "      <th>val_accuracy</th>\n",
       "    </tr>\n",
       "  </thead>\n",
       "  <tbody>\n",
       "    <tr>\n",
       "      <th>0</th>\n",
       "      <td>0.607272</td>\n",
       "      <td>0.843273</td>\n",
       "      <td>0.309770</td>\n",
       "      <td>0.9184</td>\n",
       "    </tr>\n",
       "    <tr>\n",
       "      <th>1</th>\n",
       "      <td>0.284279</td>\n",
       "      <td>0.918473</td>\n",
       "      <td>0.236808</td>\n",
       "      <td>0.9368</td>\n",
       "    </tr>\n",
       "    <tr>\n",
       "      <th>2</th>\n",
       "      <td>0.231209</td>\n",
       "      <td>0.933709</td>\n",
       "      <td>0.198357</td>\n",
       "      <td>0.9458</td>\n",
       "    </tr>\n",
       "    <tr>\n",
       "      <th>3</th>\n",
       "      <td>0.196491</td>\n",
       "      <td>0.943600</td>\n",
       "      <td>0.181382</td>\n",
       "      <td>0.9518</td>\n",
       "    </tr>\n",
       "    <tr>\n",
       "      <th>4</th>\n",
       "      <td>0.171794</td>\n",
       "      <td>0.950327</td>\n",
       "      <td>0.158565</td>\n",
       "      <td>0.9568</td>\n",
       "    </tr>\n",
       "    <tr>\n",
       "      <th>5</th>\n",
       "      <td>0.152063</td>\n",
       "      <td>0.956273</td>\n",
       "      <td>0.144613</td>\n",
       "      <td>0.9616</td>\n",
       "    </tr>\n",
       "    <tr>\n",
       "      <th>6</th>\n",
       "      <td>0.135814</td>\n",
       "      <td>0.960982</td>\n",
       "      <td>0.133259</td>\n",
       "      <td>0.9640</td>\n",
       "    </tr>\n",
       "    <tr>\n",
       "      <th>7</th>\n",
       "      <td>0.123063</td>\n",
       "      <td>0.964636</td>\n",
       "      <td>0.123657</td>\n",
       "      <td>0.9662</td>\n",
       "    </tr>\n",
       "    <tr>\n",
       "      <th>8</th>\n",
       "      <td>0.112029</td>\n",
       "      <td>0.968345</td>\n",
       "      <td>0.115177</td>\n",
       "      <td>0.9672</td>\n",
       "    </tr>\n",
       "    <tr>\n",
       "      <th>9</th>\n",
       "      <td>0.102029</td>\n",
       "      <td>0.971055</td>\n",
       "      <td>0.108042</td>\n",
       "      <td>0.9704</td>\n",
       "    </tr>\n",
       "    <tr>\n",
       "      <th>10</th>\n",
       "      <td>0.093610</td>\n",
       "      <td>0.973527</td>\n",
       "      <td>0.102521</td>\n",
       "      <td>0.9688</td>\n",
       "    </tr>\n",
       "    <tr>\n",
       "      <th>11</th>\n",
       "      <td>0.086245</td>\n",
       "      <td>0.975800</td>\n",
       "      <td>0.098899</td>\n",
       "      <td>0.9712</td>\n",
       "    </tr>\n",
       "    <tr>\n",
       "      <th>12</th>\n",
       "      <td>0.079926</td>\n",
       "      <td>0.977691</td>\n",
       "      <td>0.094123</td>\n",
       "      <td>0.9722</td>\n",
       "    </tr>\n",
       "    <tr>\n",
       "      <th>13</th>\n",
       "      <td>0.074352</td>\n",
       "      <td>0.979055</td>\n",
       "      <td>0.091125</td>\n",
       "      <td>0.9718</td>\n",
       "    </tr>\n",
       "    <tr>\n",
       "      <th>14</th>\n",
       "      <td>0.068564</td>\n",
       "      <td>0.981564</td>\n",
       "      <td>0.089010</td>\n",
       "      <td>0.9746</td>\n",
       "    </tr>\n",
       "    <tr>\n",
       "      <th>15</th>\n",
       "      <td>0.064339</td>\n",
       "      <td>0.982236</td>\n",
       "      <td>0.089990</td>\n",
       "      <td>0.9730</td>\n",
       "    </tr>\n",
       "    <tr>\n",
       "      <th>16</th>\n",
       "      <td>0.060012</td>\n",
       "      <td>0.983582</td>\n",
       "      <td>0.083023</td>\n",
       "      <td>0.9754</td>\n",
       "    </tr>\n",
       "    <tr>\n",
       "      <th>17</th>\n",
       "      <td>0.056412</td>\n",
       "      <td>0.984782</td>\n",
       "      <td>0.082598</td>\n",
       "      <td>0.9764</td>\n",
       "    </tr>\n",
       "    <tr>\n",
       "      <th>18</th>\n",
       "      <td>0.052385</td>\n",
       "      <td>0.986073</td>\n",
       "      <td>0.080020</td>\n",
       "      <td>0.9774</td>\n",
       "    </tr>\n",
       "    <tr>\n",
       "      <th>19</th>\n",
       "      <td>0.049301</td>\n",
       "      <td>0.986455</td>\n",
       "      <td>0.076695</td>\n",
       "      <td>0.9784</td>\n",
       "    </tr>\n",
       "    <tr>\n",
       "      <th>20</th>\n",
       "      <td>0.046273</td>\n",
       "      <td>0.987836</td>\n",
       "      <td>0.076877</td>\n",
       "      <td>0.9784</td>\n",
       "    </tr>\n",
       "    <tr>\n",
       "      <th>21</th>\n",
       "      <td>0.043551</td>\n",
       "      <td>0.988636</td>\n",
       "      <td>0.074653</td>\n",
       "      <td>0.9776</td>\n",
       "    </tr>\n",
       "    <tr>\n",
       "      <th>22</th>\n",
       "      <td>0.041028</td>\n",
       "      <td>0.989273</td>\n",
       "      <td>0.074964</td>\n",
       "      <td>0.9776</td>\n",
       "    </tr>\n",
       "    <tr>\n",
       "      <th>23</th>\n",
       "      <td>0.038707</td>\n",
       "      <td>0.989909</td>\n",
       "      <td>0.072867</td>\n",
       "      <td>0.9800</td>\n",
       "    </tr>\n",
       "    <tr>\n",
       "      <th>24</th>\n",
       "      <td>0.036411</td>\n",
       "      <td>0.990982</td>\n",
       "      <td>0.071452</td>\n",
       "      <td>0.9792</td>\n",
       "    </tr>\n",
       "    <tr>\n",
       "      <th>25</th>\n",
       "      <td>0.034408</td>\n",
       "      <td>0.991291</td>\n",
       "      <td>0.070716</td>\n",
       "      <td>0.9810</td>\n",
       "    </tr>\n",
       "    <tr>\n",
       "      <th>26</th>\n",
       "      <td>0.032350</td>\n",
       "      <td>0.992127</td>\n",
       "      <td>0.070862</td>\n",
       "      <td>0.9780</td>\n",
       "    </tr>\n",
       "    <tr>\n",
       "      <th>27</th>\n",
       "      <td>0.030578</td>\n",
       "      <td>0.992564</td>\n",
       "      <td>0.072442</td>\n",
       "      <td>0.9792</td>\n",
       "    </tr>\n",
       "    <tr>\n",
       "      <th>28</th>\n",
       "      <td>0.028765</td>\n",
       "      <td>0.993327</td>\n",
       "      <td>0.072255</td>\n",
       "      <td>0.9788</td>\n",
       "    </tr>\n",
       "    <tr>\n",
       "      <th>29</th>\n",
       "      <td>0.027199</td>\n",
       "      <td>0.993655</td>\n",
       "      <td>0.076948</td>\n",
       "      <td>0.9772</td>\n",
       "    </tr>\n",
       "  </tbody>\n",
       "</table>\n",
       "</div>"
      ],
      "text/plain": [
       "        loss  accuracy  val_loss  val_accuracy\n",
       "0   0.607272  0.843273  0.309770        0.9184\n",
       "1   0.284279  0.918473  0.236808        0.9368\n",
       "2   0.231209  0.933709  0.198357        0.9458\n",
       "3   0.196491  0.943600  0.181382        0.9518\n",
       "4   0.171794  0.950327  0.158565        0.9568\n",
       "5   0.152063  0.956273  0.144613        0.9616\n",
       "6   0.135814  0.960982  0.133259        0.9640\n",
       "7   0.123063  0.964636  0.123657        0.9662\n",
       "8   0.112029  0.968345  0.115177        0.9672\n",
       "9   0.102029  0.971055  0.108042        0.9704\n",
       "10  0.093610  0.973527  0.102521        0.9688\n",
       "11  0.086245  0.975800  0.098899        0.9712\n",
       "12  0.079926  0.977691  0.094123        0.9722\n",
       "13  0.074352  0.979055  0.091125        0.9718\n",
       "14  0.068564  0.981564  0.089010        0.9746\n",
       "15  0.064339  0.982236  0.089990        0.9730\n",
       "16  0.060012  0.983582  0.083023        0.9754\n",
       "17  0.056412  0.984782  0.082598        0.9764\n",
       "18  0.052385  0.986073  0.080020        0.9774\n",
       "19  0.049301  0.986455  0.076695        0.9784\n",
       "20  0.046273  0.987836  0.076877        0.9784\n",
       "21  0.043551  0.988636  0.074653        0.9776\n",
       "22  0.041028  0.989273  0.074964        0.9776\n",
       "23  0.038707  0.989909  0.072867        0.9800\n",
       "24  0.036411  0.990982  0.071452        0.9792\n",
       "25  0.034408  0.991291  0.070716        0.9810\n",
       "26  0.032350  0.992127  0.070862        0.9780\n",
       "27  0.030578  0.992564  0.072442        0.9792\n",
       "28  0.028765  0.993327  0.072255        0.9788\n",
       "29  0.027199  0.993655  0.076948        0.9772"
      ]
     },
     "execution_count": 98,
     "metadata": {},
     "output_type": "execute_result"
    }
   ],
   "source": [
    "pd.DataFrame(history.history) # without batch normalisation"
   ]
  },
  {
   "cell_type": "code",
   "execution_count": 99,
   "id": "d676ac1a",
   "metadata": {},
   "outputs": [
    {
     "data": {
      "text/html": [
       "<div>\n",
       "<style scoped>\n",
       "    .dataframe tbody tr th:only-of-type {\n",
       "        vertical-align: middle;\n",
       "    }\n",
       "\n",
       "    .dataframe tbody tr th {\n",
       "        vertical-align: top;\n",
       "    }\n",
       "\n",
       "    .dataframe thead th {\n",
       "        text-align: right;\n",
       "    }\n",
       "</style>\n",
       "<table border=\"1\" class=\"dataframe\">\n",
       "  <thead>\n",
       "    <tr style=\"text-align: right;\">\n",
       "      <th></th>\n",
       "      <th>loss</th>\n",
       "      <th>accuracy</th>\n",
       "      <th>val_loss</th>\n",
       "      <th>val_accuracy</th>\n",
       "    </tr>\n",
       "  </thead>\n",
       "  <tbody>\n",
       "    <tr>\n",
       "      <th>0</th>\n",
       "      <td>0.332789</td>\n",
       "      <td>0.901473</td>\n",
       "      <td>0.151990</td>\n",
       "      <td>0.9592</td>\n",
       "    </tr>\n",
       "    <tr>\n",
       "      <th>1</th>\n",
       "      <td>0.164646</td>\n",
       "      <td>0.952491</td>\n",
       "      <td>0.114461</td>\n",
       "      <td>0.9686</td>\n",
       "    </tr>\n",
       "    <tr>\n",
       "      <th>2</th>\n",
       "      <td>0.120434</td>\n",
       "      <td>0.965236</td>\n",
       "      <td>0.098224</td>\n",
       "      <td>0.9710</td>\n",
       "    </tr>\n",
       "    <tr>\n",
       "      <th>3</th>\n",
       "      <td>0.096374</td>\n",
       "      <td>0.972127</td>\n",
       "      <td>0.087979</td>\n",
       "      <td>0.9736</td>\n",
       "    </tr>\n",
       "    <tr>\n",
       "      <th>4</th>\n",
       "      <td>0.080269</td>\n",
       "      <td>0.977073</td>\n",
       "      <td>0.085960</td>\n",
       "      <td>0.9734</td>\n",
       "    </tr>\n",
       "    <tr>\n",
       "      <th>5</th>\n",
       "      <td>0.067841</td>\n",
       "      <td>0.980036</td>\n",
       "      <td>0.083794</td>\n",
       "      <td>0.9748</td>\n",
       "    </tr>\n",
       "    <tr>\n",
       "      <th>6</th>\n",
       "      <td>0.056345</td>\n",
       "      <td>0.983873</td>\n",
       "      <td>0.080620</td>\n",
       "      <td>0.9762</td>\n",
       "    </tr>\n",
       "    <tr>\n",
       "      <th>7</th>\n",
       "      <td>0.048500</td>\n",
       "      <td>0.986000</td>\n",
       "      <td>0.080372</td>\n",
       "      <td>0.9766</td>\n",
       "    </tr>\n",
       "    <tr>\n",
       "      <th>8</th>\n",
       "      <td>0.043235</td>\n",
       "      <td>0.988091</td>\n",
       "      <td>0.077630</td>\n",
       "      <td>0.9792</td>\n",
       "    </tr>\n",
       "    <tr>\n",
       "      <th>9</th>\n",
       "      <td>0.038217</td>\n",
       "      <td>0.989291</td>\n",
       "      <td>0.076498</td>\n",
       "      <td>0.9778</td>\n",
       "    </tr>\n",
       "    <tr>\n",
       "      <th>10</th>\n",
       "      <td>0.032829</td>\n",
       "      <td>0.991309</td>\n",
       "      <td>0.076625</td>\n",
       "      <td>0.9780</td>\n",
       "    </tr>\n",
       "    <tr>\n",
       "      <th>11</th>\n",
       "      <td>0.029994</td>\n",
       "      <td>0.992200</td>\n",
       "      <td>0.075241</td>\n",
       "      <td>0.9804</td>\n",
       "    </tr>\n",
       "    <tr>\n",
       "      <th>12</th>\n",
       "      <td>0.026575</td>\n",
       "      <td>0.993055</td>\n",
       "      <td>0.075299</td>\n",
       "      <td>0.9798</td>\n",
       "    </tr>\n",
       "    <tr>\n",
       "      <th>13</th>\n",
       "      <td>0.024280</td>\n",
       "      <td>0.993418</td>\n",
       "      <td>0.076100</td>\n",
       "      <td>0.9798</td>\n",
       "    </tr>\n",
       "    <tr>\n",
       "      <th>14</th>\n",
       "      <td>0.020666</td>\n",
       "      <td>0.995255</td>\n",
       "      <td>0.075061</td>\n",
       "      <td>0.9808</td>\n",
       "    </tr>\n",
       "    <tr>\n",
       "      <th>15</th>\n",
       "      <td>0.019799</td>\n",
       "      <td>0.995200</td>\n",
       "      <td>0.076695</td>\n",
       "      <td>0.9788</td>\n",
       "    </tr>\n",
       "    <tr>\n",
       "      <th>16</th>\n",
       "      <td>0.018884</td>\n",
       "      <td>0.995164</td>\n",
       "      <td>0.075790</td>\n",
       "      <td>0.9810</td>\n",
       "    </tr>\n",
       "    <tr>\n",
       "      <th>17</th>\n",
       "      <td>0.016819</td>\n",
       "      <td>0.996218</td>\n",
       "      <td>0.074589</td>\n",
       "      <td>0.9800</td>\n",
       "    </tr>\n",
       "    <tr>\n",
       "      <th>18</th>\n",
       "      <td>0.015115</td>\n",
       "      <td>0.996709</td>\n",
       "      <td>0.075697</td>\n",
       "      <td>0.9808</td>\n",
       "    </tr>\n",
       "    <tr>\n",
       "      <th>19</th>\n",
       "      <td>0.014479</td>\n",
       "      <td>0.996455</td>\n",
       "      <td>0.075397</td>\n",
       "      <td>0.9814</td>\n",
       "    </tr>\n",
       "    <tr>\n",
       "      <th>20</th>\n",
       "      <td>0.013222</td>\n",
       "      <td>0.997200</td>\n",
       "      <td>0.073634</td>\n",
       "      <td>0.9824</td>\n",
       "    </tr>\n",
       "    <tr>\n",
       "      <th>21</th>\n",
       "      <td>0.012380</td>\n",
       "      <td>0.997218</td>\n",
       "      <td>0.075408</td>\n",
       "      <td>0.9806</td>\n",
       "    </tr>\n",
       "    <tr>\n",
       "      <th>22</th>\n",
       "      <td>0.011613</td>\n",
       "      <td>0.997564</td>\n",
       "      <td>0.077197</td>\n",
       "      <td>0.9794</td>\n",
       "    </tr>\n",
       "    <tr>\n",
       "      <th>23</th>\n",
       "      <td>0.011441</td>\n",
       "      <td>0.997818</td>\n",
       "      <td>0.076850</td>\n",
       "      <td>0.9804</td>\n",
       "    </tr>\n",
       "    <tr>\n",
       "      <th>24</th>\n",
       "      <td>0.010150</td>\n",
       "      <td>0.997982</td>\n",
       "      <td>0.075985</td>\n",
       "      <td>0.9818</td>\n",
       "    </tr>\n",
       "    <tr>\n",
       "      <th>25</th>\n",
       "      <td>0.009977</td>\n",
       "      <td>0.998036</td>\n",
       "      <td>0.077128</td>\n",
       "      <td>0.9804</td>\n",
       "    </tr>\n",
       "    <tr>\n",
       "      <th>26</th>\n",
       "      <td>0.009388</td>\n",
       "      <td>0.998055</td>\n",
       "      <td>0.079335</td>\n",
       "      <td>0.9800</td>\n",
       "    </tr>\n",
       "    <tr>\n",
       "      <th>27</th>\n",
       "      <td>0.009136</td>\n",
       "      <td>0.998145</td>\n",
       "      <td>0.079319</td>\n",
       "      <td>0.9800</td>\n",
       "    </tr>\n",
       "    <tr>\n",
       "      <th>28</th>\n",
       "      <td>0.007810</td>\n",
       "      <td>0.998618</td>\n",
       "      <td>0.078807</td>\n",
       "      <td>0.9812</td>\n",
       "    </tr>\n",
       "    <tr>\n",
       "      <th>29</th>\n",
       "      <td>0.008092</td>\n",
       "      <td>0.998291</td>\n",
       "      <td>0.082171</td>\n",
       "      <td>0.9804</td>\n",
       "    </tr>\n",
       "  </tbody>\n",
       "</table>\n",
       "</div>"
      ],
      "text/plain": [
       "        loss  accuracy  val_loss  val_accuracy\n",
       "0   0.332789  0.901473  0.151990        0.9592\n",
       "1   0.164646  0.952491  0.114461        0.9686\n",
       "2   0.120434  0.965236  0.098224        0.9710\n",
       "3   0.096374  0.972127  0.087979        0.9736\n",
       "4   0.080269  0.977073  0.085960        0.9734\n",
       "5   0.067841  0.980036  0.083794        0.9748\n",
       "6   0.056345  0.983873  0.080620        0.9762\n",
       "7   0.048500  0.986000  0.080372        0.9766\n",
       "8   0.043235  0.988091  0.077630        0.9792\n",
       "9   0.038217  0.989291  0.076498        0.9778\n",
       "10  0.032829  0.991309  0.076625        0.9780\n",
       "11  0.029994  0.992200  0.075241        0.9804\n",
       "12  0.026575  0.993055  0.075299        0.9798\n",
       "13  0.024280  0.993418  0.076100        0.9798\n",
       "14  0.020666  0.995255  0.075061        0.9808\n",
       "15  0.019799  0.995200  0.076695        0.9788\n",
       "16  0.018884  0.995164  0.075790        0.9810\n",
       "17  0.016819  0.996218  0.074589        0.9800\n",
       "18  0.015115  0.996709  0.075697        0.9808\n",
       "19  0.014479  0.996455  0.075397        0.9814\n",
       "20  0.013222  0.997200  0.073634        0.9824\n",
       "21  0.012380  0.997218  0.075408        0.9806\n",
       "22  0.011613  0.997564  0.077197        0.9794\n",
       "23  0.011441  0.997818  0.076850        0.9804\n",
       "24  0.010150  0.997982  0.075985        0.9818\n",
       "25  0.009977  0.998036  0.077128        0.9804\n",
       "26  0.009388  0.998055  0.079335        0.9800\n",
       "27  0.009136  0.998145  0.079319        0.9800\n",
       "28  0.007810  0.998618  0.078807        0.9812\n",
       "29  0.008092  0.998291  0.082171        0.9804"
      ]
     },
     "execution_count": 99,
     "metadata": {},
     "output_type": "execute_result"
    }
   ],
   "source": [
    "pd.DataFrame(batch_nor_history.history) # with batch normalisation"
   ]
  },
  {
   "cell_type": "markdown",
   "id": "399f3975",
   "metadata": {},
   "source": [
    "#### Based on the o0bservation, adding batch normalisation increased the accuracy with less epoch."
   ]
  },
  {
   "cell_type": "markdown",
   "id": "04f28f87",
   "metadata": {},
   "source": [
    "### 6.Discuss the impact of batch normalization on the training process and the performance of the neural network."
   ]
  },
  {
   "cell_type": "code",
   "execution_count": 100,
   "id": "a93f8712",
   "metadata": {},
   "outputs": [
    {
     "name": "stdout",
     "output_type": "stream",
     "text": [
      "157/157 [==============================] - 0s 462us/step - loss: 0.0769 - accuracy: 0.9772\n"
     ]
    }
   ],
   "source": [
    "val_loss, val_accuracy = model_clf.evaluate(X_valid, y_valid) # without batch normalisation"
   ]
  },
  {
   "cell_type": "code",
   "execution_count": 101,
   "id": "79b1ba5f",
   "metadata": {},
   "outputs": [
    {
     "name": "stdout",
     "output_type": "stream",
     "text": [
      "157/157 [==============================] - 0s 495us/step - loss: 0.0822 - accuracy: 0.9804\n"
     ]
    }
   ],
   "source": [
    "batch_nor_val_loss, batch_nor_val_accuracy = batch_nor_model_clf.evaluate(X_valid, y_valid)# with batch normalisation"
   ]
  },
  {
   "cell_type": "code",
   "execution_count": 102,
   "id": "b9fcc7a1",
   "metadata": {},
   "outputs": [
    {
     "name": "stdout",
     "output_type": "stream",
     "text": [
      "313/313 [==============================] - 0s 454us/step - loss: 0.0742 - accuracy: 0.9771\n"
     ]
    }
   ],
   "source": [
    "test_loss, test_accuracy = model_clf.evaluate(X_test, y_test)# without batch normalisation"
   ]
  },
  {
   "cell_type": "code",
   "execution_count": 103,
   "id": "736be889",
   "metadata": {},
   "outputs": [
    {
     "name": "stdout",
     "output_type": "stream",
     "text": [
      "313/313 [==============================] - 0s 478us/step - loss: 0.0689 - accuracy: 0.9811\n"
     ]
    }
   ],
   "source": [
    "batch_nor_test_loss, batch_nor_test_accuracy = batch_nor_model_clf.evaluate(X_test, y_test)# with batch normalisation"
   ]
  },
  {
   "cell_type": "code",
   "execution_count": 104,
   "id": "d7747ab1",
   "metadata": {},
   "outputs": [
    {
     "data": {
      "text/plain": [
       "<Axes: >"
      ]
     },
     "execution_count": 104,
     "metadata": {},
     "output_type": "execute_result"
    },
    {
     "data": {
      "image/png": "[encoded data removed]",
      "text/plain": [
       "<Figure size 640x480 with 1 Axes>"
      ]
     },
     "metadata": {},
     "output_type": "display_data"
    }
   ],
   "source": [
    "pd.DataFrame(history.history).plot()# without batch normalisation"
   ]
  },
  {
   "cell_type": "code",
   "execution_count": 105,
   "id": "10c2e110",
   "metadata": {},
   "outputs": [
    {
     "data": {
      "text/plain": [
       "<Axes: >"
      ]
     },
     "execution_count": 105,
     "metadata": {},
     "output_type": "execute_result"
    },
    {
     "data": {
      "image/png": "[encoded data removed]",
      "text/plain": [
       "<Figure size 640x480 with 1 Axes>"
      ]
     },
     "metadata": {},
     "output_type": "display_data"
    }
   ],
   "source": [
    "pd.DataFrame(batch_nor_history.history).plot()# with batch normalisation"
   ]
  },
  {
   "cell_type": "code",
   "execution_count": 106,
   "id": "a49eaa1a",
   "metadata": {},
   "outputs": [],
   "source": [
    "from sklearn.metrics import confusion_matrix, classification_report"
   ]
  },
  {
   "cell_type": "markdown",
   "id": "4329e362",
   "metadata": {},
   "source": [
    "### Q3. Experimentation and Analysis"
   ]
  },
  {
   "cell_type": "markdown",
   "id": "68db5cc0",
   "metadata": {},
   "source": [
    "1. Experiment with different batch sizes and observe the effect on the training dynamics and model performance"
   ]
  },
  {
   "cell_type": "code",
   "execution_count": 107,
   "id": "d6b44750",
   "metadata": {},
   "outputs": [
    {
     "name": "stdout",
     "output_type": "stream",
     "text": [
      "313/313 [==============================] - 0s 444us/step - loss: 0.1136 - accuracy: 0.9766\n",
      "313/313 [==============================] - 0s 442us/step - loss: 0.1125 - accuracy: 0.9810\n",
      "313/313 [==============================] - 0s 446us/step - loss: 0.1073 - accuracy: 0.9849\n",
      "Batch Size: 32 | Test Accuracy: 0.9766\n",
      "Batch Size: 64 | Test Accuracy: 0.9810\n",
      "Batch Size: 128 | Test Accuracy: 0.9849\n"
     ]
    }
   ],
   "source": [
    "import numpy as np\n",
    "import tensorflow as tf\n",
    "from tensorflow.keras.layers import Dense, Flatten, BatchNormalization\n",
    "from tensorflow.keras.datasets import mnist\n",
    "from sklearn.model_selection import train_test_split\n",
    "\n",
    "# Load and preprocess the MNIST dataset\n",
    "(X_train, y_train), (X_test, y_test) = mnist.load_data()\n",
    "X_train, X_test = X_train / 255.0, X_test / 255.0  # Normalize pixel values to the range [0, 1]\n",
    "\n",
    "# Reshape input data\n",
    "X_train = X_train.reshape(X_train.shape[0], 28, 28, 1)\n",
    "X_test = X_test.reshape(X_test.shape[0], 28, 28, 1)\n",
    "\n",
    "# Convert labels to one-hot encoding\n",
    "y_train = tf.keras.utils.to_categorical(y_train, 10)\n",
    "y_test = tf.keras.utils.to_categorical(y_test, 10)\n",
    "\n",
    "# Define different batch sizes to experiment with\n",
    "batch_sizes = [32, 64, 128]\n",
    "\n",
    "# Store results for different batch sizes\n",
    "results = []\n",
    "\n",
    "for batch_size in batch_sizes:\n",
    "    # Create a new model for each batch size\n",
    "    batch_nor_model = tf.keras.models.Sequential(LAYERS)\n",
    "    \n",
    "    # Compile the model\n",
    "    batch_nor_model.compile(optimizer='adam', loss='categorical_crossentropy', metrics=['accuracy'])\n",
    "    \n",
    "    # Train the model with the current batch size\n",
    "    history = batch_nor_model.fit(X_train, y_train, batch_size=batch_size, epochs=10, validation_split=0.2, verbose=0)\n",
    "    \n",
    "    # Evaluate the model on the test set\n",
    "    test_loss, test_accuracy = batch_nor_model.evaluate(X_test, y_test)\n",
    "    \n",
    "    # Store the results\n",
    "    results.append({\n",
    "        'batch_size': batch_size,\n",
    "        'test_accuracy': test_accuracy,\n",
    "        'training_history': history.history\n",
    "    })\n",
    "    \n",
    "\n",
    "# Print the results\n",
    "for result in results:\n",
    "    print(f\"Batch Size: {result['batch_size']} | Test Accuracy: {result['test_accuracy']:.4f}\")\n"
   ]
  },
  {
   "cell_type": "markdown",
   "id": "e7923fcd",
   "metadata": {},
   "source": [
    "#### 2. Discuss the advantages and potential limitations of batch normalization in improving the training of neural networks.\n",
    "\n",
    "\n",
    "Batch Normalization (BatchNorm) is a technique that has been widely adopted in deep learning for improving the training of neural networks. It operates by normalizing the input of each layer within a mini-batch during training. While BatchNorm has several advantages, it also comes with certain limitations. Here, I'll discuss both its advantages and potential limitations:\n",
    "\n",
    "**Advantages of Batch Normalization:**\n",
    "\n",
    "1. **Stabilizes Training**: BatchNorm helps stabilize and speed up the training process by reducing internal covariate shift. This means that the distributions of activations within each layer remain consistent across different mini-batches during training, allowing for faster convergence.\n",
    "\n",
    "2. **Improved Gradient Flow**: BatchNorm reduces the vanishing gradient problem and helps mitigate the exploding gradient problem. This results in better gradient flow through the network, making it easier to train very deep networks.\n",
    "\n",
    "3. **Allows Higher Learning Rates**: Because BatchNorm stabilizes training, it often enables the use of higher learning rates, which can lead to faster convergence and potentially better generalization.\n",
    "\n",
    "4. **Regularization Effect**: BatchNorm acts as a form of regularization. By adding noise to the activations through the mini-batch statistics, it reduces overfitting, which can lead to better generalization.\n",
    "\n",
    "5. **Reduces Sensitivity to Initialization**: BatchNorm makes neural networks less sensitive to the choice of weight initialization. This makes it easier to experiment with different architectures and settings.\n",
    "\n",
    "6. **Enables Deeper Networks**: BatchNorm has played a crucial role in enabling the training of very deep neural networks, including deep convolutional networks used in computer vision tasks.\n",
    "\n",
    "**Potential Limitations and Considerations of Batch Normalization:**\n",
    "\n",
    "1. **Not Suitable for Small Batch Sizes**: BatchNorm relies on statistics calculated over mini-batches. It can be less effective when using very small batch sizes or in situations where mini-batch statistics do not accurately represent the overall dataset statistics.\n",
    "\n",
    "2. **Test-Time Statistics**: During inference (i.e., when making predictions), BatchNorm relies on estimated statistics from the training data. This can introduce some discrepancies, especially if the test data distribution significantly differs from the training data.\n",
    "\n",
    "3. **Added Complexity**: BatchNorm introduces additional hyperparameters (e.g., momentum, epsilon) that need to be tuned. Selecting appropriate values for these hyperparameters can be crucial for effective BatchNorm.\n",
    "\n",
    "4. **Not Always Needed**: BatchNorm might not be necessary for all types of neural networks or all layers within a network. For example, it may not provide significant benefits in recurrent neural networks (RNNs) or certain specialized architectures.\n",
    "\n",
    "5. **Computational Overhead**: BatchNorm requires additional computations during both training and inference. Although modern hardware and optimized libraries mitigate this overhead, it's still a consideration in resource-constrained environments.\n",
    "\n",
    "In summary, Batch Normalization is a valuable tool for training deep neural networks, offering advantages like improved training stability, faster convergence, and regularization. However, its effectiveness can vary depending on the specific problem and architecture, and careful consideration of batch size and hyperparameters is essential. Additionally, newer techniques like Layer Normalization and Group Normalization have been developed to address some of the limitations of BatchNorm in certain scenarios."
   ]
  }
 ],
 "metadata": {
  "kernelspec": {
   "display_name": "Python 3 (ipykernel)",
   "language": "python",
   "name": "python3"
  },
  "language_info": {
   "codemirror_mode": {
    "name": "ipython",
    "version": 3
   },
   "file_extension": ".py",
   "mimetype": "text/x-python",
   "name": "python",
   "nbconvert_exporter": "python",
   "pygments_lexer": "ipython3",
   "version": "3.10.9"
  }
 },
 "nbformat": 4,
 "nbformat_minor": 5
}
